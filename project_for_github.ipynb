{
 "cells": [
  {
   "cell_type": "markdown",
   "id": "8419b7bb",
   "metadata": {},
   "source": [
    "# Модель, прогнозирующая отток клиентов банка «Бета-Банк»"
   ]
  },
  {
   "cell_type": "markdown",
   "id": "bae094bd",
   "metadata": {},
   "source": [
    " Целью нашей работы является выявление наиболее эффективной модели, прогнозирующей уход клиента из банка. В нашем распоряжении исторические данные таблицы о поведении клиентов и расторжении договоров с банком.\n",
    " \n",
    " Целевым признаком является столбец **\"Exited\"**, который фиксирует факт расторжение договора - значение `1`, или действующий договор клиент с банком - значение `0`. Перед нами стоит задача классификации бинарного распределения.\n",
    " \n",
    " На первом этапе работы мы изучим данные, проработаем признаки для подготовки их к обучению. Разделим датасет на три части: на обучающую, тестовую и валидационную выборки.\n",
    " \n",
    " Далее проведем обучение модели и проверку модели по обучающей и валидационной выборке без использования балансировки классов в целевой признаке. Для оценки модели мы выберем F1-меру для задачи классификации. \n",
    " \n",
    " На третьем этапе работы проведем балансировку классов целевого признака, попытаемся улучшить наш результат, который также будет оценен метрикой F1-score.\n",
    " \n",
    " После определим лучшую модель и, воспользовавшись тестовой выборкой, найдем значение F1-меры протестируем нашу модель, важно довести значение метрики до 0.59. Это будет считаться успешной модель, которая будет эффективно работать для предсказания поведения клиента уже в боевых условиях."
   ]
  },
  {
   "cell_type": "markdown",
   "id": "07fd7905",
   "metadata": {},
   "source": [
    "## Анализ данных и работу над признаками датасета"
   ]
  },
  {
   "cell_type": "markdown",
   "id": "82ac0907",
   "metadata": {},
   "source": [
    "### Анализ данных клиентов"
   ]
  },
  {
   "cell_type": "markdown",
   "id": "714de6ee",
   "metadata": {},
   "source": [
    "Подготовим и импортируем инструменты для нашей работы."
   ]
  },
  {
   "cell_type": "code",
   "execution_count": 1,
   "id": "7ff4ebb8",
   "metadata": {},
   "outputs": [
    {
     "name": "stdout",
     "output_type": "stream",
     "text": [
      "Requirement already satisfied: optuna in c:\\users\\roma_\\anaconda3\\lib\\site-packages (3.2.0)\n",
      "Requirement already satisfied: tqdm in c:\\users\\roma_\\anaconda3\\lib\\site-packages (from optuna) (4.64.1)\n",
      "Requirement already satisfied: alembic>=1.5.0 in c:\\users\\roma_\\anaconda3\\lib\\site-packages (from optuna) (1.11.1)\n",
      "Requirement already satisfied: colorlog in c:\\users\\roma_\\anaconda3\\lib\\site-packages (from optuna) (6.7.0)\n",
      "Requirement already satisfied: PyYAML in c:\\users\\roma_\\anaconda3\\lib\\site-packages (from optuna) (6.0)\n",
      "Requirement already satisfied: packaging>=20.0 in c:\\users\\roma_\\anaconda3\\lib\\site-packages (from optuna) (22.0)\n",
      "Requirement already satisfied: cmaes>=0.9.1 in c:\\users\\roma_\\anaconda3\\lib\\site-packages (from optuna) (0.10.0)\n",
      "Requirement already satisfied: sqlalchemy>=1.3.0 in c:\\users\\roma_\\anaconda3\\lib\\site-packages (from optuna) (1.4.39)\n",
      "Requirement already satisfied: numpy in c:\\users\\roma_\\anaconda3\\lib\\site-packages (from optuna) (1.23.5)\n",
      "Requirement already satisfied: Mako in c:\\users\\roma_\\anaconda3\\lib\\site-packages (from alembic>=1.5.0->optuna) (1.2.4)\n",
      "Requirement already satisfied: typing-extensions>=4 in c:\\users\\roma_\\anaconda3\\lib\\site-packages (from alembic>=1.5.0->optuna) (4.4.0)\n",
      "Requirement already satisfied: greenlet!=0.4.17 in c:\\users\\roma_\\anaconda3\\lib\\site-packages (from sqlalchemy>=1.3.0->optuna) (2.0.1)\n",
      "Requirement already satisfied: colorama in c:\\users\\roma_\\anaconda3\\lib\\site-packages (from colorlog->optuna) (0.4.6)\n",
      "Requirement already satisfied: MarkupSafe>=0.9.2 in c:\\users\\roma_\\anaconda3\\lib\\site-packages (from Mako->alembic>=1.5.0->optuna) (2.1.1)\n"
     ]
    }
   ],
   "source": [
    "!pip install optuna"
   ]
  },
  {
   "cell_type": "code",
   "execution_count": 43,
   "id": "100ff05d",
   "metadata": {},
   "outputs": [],
   "source": [
    "import pandas as pd\n",
    "import matplotlib.pyplot as plt\n",
    "import numpy as np\n",
    "import optuna\n",
    "from sklearn.pipeline import Pipeline\n",
    "\n",
    "\n",
    "from sklearn.model_selection import train_test_split, cross_val_score\n",
    "from sklearn.tree import DecisionTreeClassifier\n",
    "from sklearn.ensemble import RandomForestClassifier\n",
    "from sklearn.linear_model import LogisticRegression\n",
    "from sklearn.preprocessing import StandardScaler, OneHotEncoder\n",
    "pd.options.mode.chained_assignment = None\n",
    "from sklearn.preprocessing import OrdinalEncoder\n",
    "from sklearn.metrics import f1_score, recall_score, precision_score, roc_auc_score, roc_curve\n",
    "from sklearn.utils import shuffle\n",
    "from sklearn.dummy import DummyClassifier\n",
    "from sklearn.compose import make_column_transformer"
   ]
  },
  {
   "cell_type": "markdown",
   "id": "e48b683a",
   "metadata": {},
   "source": [
    "Ссылка на репозиторий в GitHub: https://github.com/romakulikov/fproject_gh.git"
   ]
  },
  {
   "cell_type": "markdown",
   "id": "8d50b2d1",
   "metadata": {},
   "source": [
    "Создадим переменную `df_churn`, передадим в нее данные о клиентах."
   ]
  },
  {
   "cell_type": "code",
   "execution_count": 3,
   "id": "d90dfb18",
   "metadata": {},
   "outputs": [],
   "source": [
    "try:\n",
    "    df_churn = pd.read_csv('C://Users//roma_//OneDrive//Рабочий стол//DATA//Проект Бета-Банк//Churn.csv')\n",
    "except:\n",
    "    df_churn = pd.read_csv('/datasets/Churn.csv')"
   ]
  },
  {
   "cell_type": "markdown",
   "id": "ad0800e8",
   "metadata": {},
   "source": [
    "Познакомимся с данными с помощью функций `head()` и `info()`."
   ]
  },
  {
   "cell_type": "code",
   "execution_count": 4,
   "id": "1dcd5128",
   "metadata": {},
   "outputs": [
    {
     "data": {
      "text/html": [
       "<div>\n",
       "<style scoped>\n",
       "    .dataframe tbody tr th:only-of-type {\n",
       "        vertical-align: middle;\n",
       "    }\n",
       "\n",
       "    .dataframe tbody tr th {\n",
       "        vertical-align: top;\n",
       "    }\n",
       "\n",
       "    .dataframe thead th {\n",
       "        text-align: right;\n",
       "    }\n",
       "</style>\n",
       "<table border=\"1\" class=\"dataframe\">\n",
       "  <thead>\n",
       "    <tr style=\"text-align: right;\">\n",
       "      <th></th>\n",
       "      <th>RowNumber</th>\n",
       "      <th>CustomerId</th>\n",
       "      <th>Surname</th>\n",
       "      <th>CreditScore</th>\n",
       "      <th>Geography</th>\n",
       "      <th>Gender</th>\n",
       "      <th>Age</th>\n",
       "      <th>Tenure</th>\n",
       "      <th>Balance</th>\n",
       "      <th>NumOfProducts</th>\n",
       "      <th>HasCrCard</th>\n",
       "      <th>IsActiveMember</th>\n",
       "      <th>EstimatedSalary</th>\n",
       "      <th>Exited</th>\n",
       "    </tr>\n",
       "  </thead>\n",
       "  <tbody>\n",
       "    <tr>\n",
       "      <th>0</th>\n",
       "      <td>1</td>\n",
       "      <td>15634602</td>\n",
       "      <td>Hargrave</td>\n",
       "      <td>619</td>\n",
       "      <td>France</td>\n",
       "      <td>Female</td>\n",
       "      <td>42</td>\n",
       "      <td>2.0</td>\n",
       "      <td>0.00</td>\n",
       "      <td>1</td>\n",
       "      <td>1</td>\n",
       "      <td>1</td>\n",
       "      <td>101348.88</td>\n",
       "      <td>1</td>\n",
       "    </tr>\n",
       "    <tr>\n",
       "      <th>1</th>\n",
       "      <td>2</td>\n",
       "      <td>15647311</td>\n",
       "      <td>Hill</td>\n",
       "      <td>608</td>\n",
       "      <td>Spain</td>\n",
       "      <td>Female</td>\n",
       "      <td>41</td>\n",
       "      <td>1.0</td>\n",
       "      <td>83807.86</td>\n",
       "      <td>1</td>\n",
       "      <td>0</td>\n",
       "      <td>1</td>\n",
       "      <td>112542.58</td>\n",
       "      <td>0</td>\n",
       "    </tr>\n",
       "    <tr>\n",
       "      <th>2</th>\n",
       "      <td>3</td>\n",
       "      <td>15619304</td>\n",
       "      <td>Onio</td>\n",
       "      <td>502</td>\n",
       "      <td>France</td>\n",
       "      <td>Female</td>\n",
       "      <td>42</td>\n",
       "      <td>8.0</td>\n",
       "      <td>159660.80</td>\n",
       "      <td>3</td>\n",
       "      <td>1</td>\n",
       "      <td>0</td>\n",
       "      <td>113931.57</td>\n",
       "      <td>1</td>\n",
       "    </tr>\n",
       "    <tr>\n",
       "      <th>3</th>\n",
       "      <td>4</td>\n",
       "      <td>15701354</td>\n",
       "      <td>Boni</td>\n",
       "      <td>699</td>\n",
       "      <td>France</td>\n",
       "      <td>Female</td>\n",
       "      <td>39</td>\n",
       "      <td>1.0</td>\n",
       "      <td>0.00</td>\n",
       "      <td>2</td>\n",
       "      <td>0</td>\n",
       "      <td>0</td>\n",
       "      <td>93826.63</td>\n",
       "      <td>0</td>\n",
       "    </tr>\n",
       "    <tr>\n",
       "      <th>4</th>\n",
       "      <td>5</td>\n",
       "      <td>15737888</td>\n",
       "      <td>Mitchell</td>\n",
       "      <td>850</td>\n",
       "      <td>Spain</td>\n",
       "      <td>Female</td>\n",
       "      <td>43</td>\n",
       "      <td>2.0</td>\n",
       "      <td>125510.82</td>\n",
       "      <td>1</td>\n",
       "      <td>1</td>\n",
       "      <td>1</td>\n",
       "      <td>79084.10</td>\n",
       "      <td>0</td>\n",
       "    </tr>\n",
       "  </tbody>\n",
       "</table>\n",
       "</div>"
      ],
      "text/plain": [
       "   RowNumber  CustomerId   Surname  CreditScore Geography  Gender  Age  \\\n",
       "0          1    15634602  Hargrave          619    France  Female   42   \n",
       "1          2    15647311      Hill          608     Spain  Female   41   \n",
       "2          3    15619304      Onio          502    France  Female   42   \n",
       "3          4    15701354      Boni          699    France  Female   39   \n",
       "4          5    15737888  Mitchell          850     Spain  Female   43   \n",
       "\n",
       "   Tenure    Balance  NumOfProducts  HasCrCard  IsActiveMember  \\\n",
       "0     2.0       0.00              1          1               1   \n",
       "1     1.0   83807.86              1          0               1   \n",
       "2     8.0  159660.80              3          1               0   \n",
       "3     1.0       0.00              2          0               0   \n",
       "4     2.0  125510.82              1          1               1   \n",
       "\n",
       "   EstimatedSalary  Exited  \n",
       "0        101348.88       1  \n",
       "1        112542.58       0  \n",
       "2        113931.57       1  \n",
       "3         93826.63       0  \n",
       "4         79084.10       0  "
      ]
     },
     "execution_count": 4,
     "metadata": {},
     "output_type": "execute_result"
    }
   ],
   "source": [
    "df_churn.head()"
   ]
  },
  {
   "cell_type": "code",
   "execution_count": 5,
   "id": "e7efe818",
   "metadata": {},
   "outputs": [
    {
     "name": "stdout",
     "output_type": "stream",
     "text": [
      "<class 'pandas.core.frame.DataFrame'>\n",
      "RangeIndex: 10000 entries, 0 to 9999\n",
      "Data columns (total 14 columns):\n",
      " #   Column           Non-Null Count  Dtype  \n",
      "---  ------           --------------  -----  \n",
      " 0   RowNumber        10000 non-null  int64  \n",
      " 1   CustomerId       10000 non-null  int64  \n",
      " 2   Surname          10000 non-null  object \n",
      " 3   CreditScore      10000 non-null  int64  \n",
      " 4   Geography        10000 non-null  object \n",
      " 5   Gender           10000 non-null  object \n",
      " 6   Age              10000 non-null  int64  \n",
      " 7   Tenure           9091 non-null   float64\n",
      " 8   Balance          10000 non-null  float64\n",
      " 9   NumOfProducts    10000 non-null  int64  \n",
      " 10  HasCrCard        10000 non-null  int64  \n",
      " 11  IsActiveMember   10000 non-null  int64  \n",
      " 12  EstimatedSalary  10000 non-null  float64\n",
      " 13  Exited           10000 non-null  int64  \n",
      "dtypes: float64(3), int64(8), object(3)\n",
      "memory usage: 1.1+ MB\n"
     ]
    }
   ],
   "source": [
    "df_churn.info()"
   ]
  },
  {
   "cell_type": "markdown",
   "id": "6944e921",
   "metadata": {},
   "source": [
    "Использовав сочетание функций `duplicated()` и `sum()`, найдем явные дубликаты в данных."
   ]
  },
  {
   "cell_type": "code",
   "execution_count": 6,
   "id": "ca209ab3",
   "metadata": {},
   "outputs": [
    {
     "data": {
      "text/plain": [
       "0"
      ]
     },
     "execution_count": 6,
     "metadata": {},
     "output_type": "execute_result"
    }
   ],
   "source": [
    "df_churn.duplicated().sum()"
   ]
  },
  {
   "cell_type": "markdown",
   "id": "349c0937",
   "metadata": {},
   "source": [
    "Для поиска неявных дубликатов обратимся к столбцу `'Surname'`, выведем на экран совпадения по данному столбцу. "
   ]
  },
  {
   "cell_type": "code",
   "execution_count": 7,
   "id": "bd1453f8",
   "metadata": {
    "scrolled": true
   },
   "outputs": [
    {
     "data": {
      "text/plain": [
       "Smith       32\n",
       "Scott       29\n",
       "Martin      29\n",
       "Walker      28\n",
       "Brown       26\n",
       "Yeh         25\n",
       "Shih        25\n",
       "Genovese    25\n",
       "Maclean     24\n",
       "Wright      24\n",
       "Name: Surname, dtype: int64"
      ]
     },
     "execution_count": 7,
     "metadata": {},
     "output_type": "execute_result"
    }
   ],
   "source": [
    "df_churn['Surname'].value_counts().head(10)"
   ]
  },
  {
   "cell_type": "markdown",
   "id": "48d35ec8",
   "metadata": {},
   "source": [
    "В таблице типичное распределение фамилий, действительно, фамилии Смит, Скотт, Мартин являются очень распространенными фамилиями, можем заключить об отсутствии дубликатов в данных датасета."
   ]
  },
  {
   "cell_type": "markdown",
   "id": "63f137bf",
   "metadata": {},
   "source": [
    "Только в столбце `Tenure` мы видим пропуски в данных, обратимся к ним напрямую, постараемся найти какую-то закономерность в них."
   ]
  },
  {
   "cell_type": "code",
   "execution_count": 8,
   "id": "c3e734a2",
   "metadata": {},
   "outputs": [
    {
     "data": {
      "text/html": [
       "<div>\n",
       "<style scoped>\n",
       "    .dataframe tbody tr th:only-of-type {\n",
       "        vertical-align: middle;\n",
       "    }\n",
       "\n",
       "    .dataframe tbody tr th {\n",
       "        vertical-align: top;\n",
       "    }\n",
       "\n",
       "    .dataframe thead th {\n",
       "        text-align: right;\n",
       "    }\n",
       "</style>\n",
       "<table border=\"1\" class=\"dataframe\">\n",
       "  <thead>\n",
       "    <tr style=\"text-align: right;\">\n",
       "      <th></th>\n",
       "      <th>RowNumber</th>\n",
       "      <th>CustomerId</th>\n",
       "      <th>Surname</th>\n",
       "      <th>CreditScore</th>\n",
       "      <th>Geography</th>\n",
       "      <th>Gender</th>\n",
       "      <th>Age</th>\n",
       "      <th>Tenure</th>\n",
       "      <th>Balance</th>\n",
       "      <th>NumOfProducts</th>\n",
       "      <th>HasCrCard</th>\n",
       "      <th>IsActiveMember</th>\n",
       "      <th>EstimatedSalary</th>\n",
       "      <th>Exited</th>\n",
       "    </tr>\n",
       "  </thead>\n",
       "  <tbody>\n",
       "    <tr>\n",
       "      <th>30</th>\n",
       "      <td>31</td>\n",
       "      <td>15589475</td>\n",
       "      <td>Azikiwe</td>\n",
       "      <td>591</td>\n",
       "      <td>Spain</td>\n",
       "      <td>Female</td>\n",
       "      <td>39</td>\n",
       "      <td>NaN</td>\n",
       "      <td>0.00</td>\n",
       "      <td>3</td>\n",
       "      <td>1</td>\n",
       "      <td>0</td>\n",
       "      <td>140469.38</td>\n",
       "      <td>1</td>\n",
       "    </tr>\n",
       "    <tr>\n",
       "      <th>48</th>\n",
       "      <td>49</td>\n",
       "      <td>15766205</td>\n",
       "      <td>Yin</td>\n",
       "      <td>550</td>\n",
       "      <td>Germany</td>\n",
       "      <td>Male</td>\n",
       "      <td>38</td>\n",
       "      <td>NaN</td>\n",
       "      <td>103391.38</td>\n",
       "      <td>1</td>\n",
       "      <td>0</td>\n",
       "      <td>1</td>\n",
       "      <td>90878.13</td>\n",
       "      <td>0</td>\n",
       "    </tr>\n",
       "    <tr>\n",
       "      <th>51</th>\n",
       "      <td>52</td>\n",
       "      <td>15768193</td>\n",
       "      <td>Trevisani</td>\n",
       "      <td>585</td>\n",
       "      <td>Germany</td>\n",
       "      <td>Male</td>\n",
       "      <td>36</td>\n",
       "      <td>NaN</td>\n",
       "      <td>146050.97</td>\n",
       "      <td>2</td>\n",
       "      <td>0</td>\n",
       "      <td>0</td>\n",
       "      <td>86424.57</td>\n",
       "      <td>0</td>\n",
       "    </tr>\n",
       "    <tr>\n",
       "      <th>53</th>\n",
       "      <td>54</td>\n",
       "      <td>15702298</td>\n",
       "      <td>Parkhill</td>\n",
       "      <td>655</td>\n",
       "      <td>Germany</td>\n",
       "      <td>Male</td>\n",
       "      <td>41</td>\n",
       "      <td>NaN</td>\n",
       "      <td>125561.97</td>\n",
       "      <td>1</td>\n",
       "      <td>0</td>\n",
       "      <td>0</td>\n",
       "      <td>164040.94</td>\n",
       "      <td>1</td>\n",
       "    </tr>\n",
       "    <tr>\n",
       "      <th>60</th>\n",
       "      <td>61</td>\n",
       "      <td>15651280</td>\n",
       "      <td>Hunter</td>\n",
       "      <td>742</td>\n",
       "      <td>Germany</td>\n",
       "      <td>Male</td>\n",
       "      <td>35</td>\n",
       "      <td>NaN</td>\n",
       "      <td>136857.00</td>\n",
       "      <td>1</td>\n",
       "      <td>0</td>\n",
       "      <td>0</td>\n",
       "      <td>84509.57</td>\n",
       "      <td>0</td>\n",
       "    </tr>\n",
       "    <tr>\n",
       "      <th>82</th>\n",
       "      <td>83</td>\n",
       "      <td>15641732</td>\n",
       "      <td>Mills</td>\n",
       "      <td>543</td>\n",
       "      <td>France</td>\n",
       "      <td>Female</td>\n",
       "      <td>36</td>\n",
       "      <td>NaN</td>\n",
       "      <td>0.00</td>\n",
       "      <td>2</td>\n",
       "      <td>0</td>\n",
       "      <td>0</td>\n",
       "      <td>26019.59</td>\n",
       "      <td>0</td>\n",
       "    </tr>\n",
       "    <tr>\n",
       "      <th>85</th>\n",
       "      <td>86</td>\n",
       "      <td>15805254</td>\n",
       "      <td>Ndukaku</td>\n",
       "      <td>652</td>\n",
       "      <td>Spain</td>\n",
       "      <td>Female</td>\n",
       "      <td>75</td>\n",
       "      <td>NaN</td>\n",
       "      <td>0.00</td>\n",
       "      <td>2</td>\n",
       "      <td>1</td>\n",
       "      <td>1</td>\n",
       "      <td>114675.75</td>\n",
       "      <td>0</td>\n",
       "    </tr>\n",
       "    <tr>\n",
       "      <th>94</th>\n",
       "      <td>95</td>\n",
       "      <td>15676966</td>\n",
       "      <td>Capon</td>\n",
       "      <td>730</td>\n",
       "      <td>Spain</td>\n",
       "      <td>Male</td>\n",
       "      <td>42</td>\n",
       "      <td>NaN</td>\n",
       "      <td>0.00</td>\n",
       "      <td>2</td>\n",
       "      <td>0</td>\n",
       "      <td>1</td>\n",
       "      <td>85982.47</td>\n",
       "      <td>0</td>\n",
       "    </tr>\n",
       "    <tr>\n",
       "      <th>99</th>\n",
       "      <td>100</td>\n",
       "      <td>15633059</td>\n",
       "      <td>Fanucci</td>\n",
       "      <td>413</td>\n",
       "      <td>France</td>\n",
       "      <td>Male</td>\n",
       "      <td>34</td>\n",
       "      <td>NaN</td>\n",
       "      <td>0.00</td>\n",
       "      <td>2</td>\n",
       "      <td>0</td>\n",
       "      <td>0</td>\n",
       "      <td>6534.18</td>\n",
       "      <td>0</td>\n",
       "    </tr>\n",
       "    <tr>\n",
       "      <th>111</th>\n",
       "      <td>112</td>\n",
       "      <td>15665790</td>\n",
       "      <td>Rowntree</td>\n",
       "      <td>538</td>\n",
       "      <td>Germany</td>\n",
       "      <td>Male</td>\n",
       "      <td>39</td>\n",
       "      <td>NaN</td>\n",
       "      <td>108055.10</td>\n",
       "      <td>2</td>\n",
       "      <td>1</td>\n",
       "      <td>0</td>\n",
       "      <td>27231.26</td>\n",
       "      <td>0</td>\n",
       "    </tr>\n",
       "    <tr>\n",
       "      <th>123</th>\n",
       "      <td>124</td>\n",
       "      <td>15760085</td>\n",
       "      <td>Calabresi</td>\n",
       "      <td>684</td>\n",
       "      <td>Germany</td>\n",
       "      <td>Female</td>\n",
       "      <td>48</td>\n",
       "      <td>NaN</td>\n",
       "      <td>126384.42</td>\n",
       "      <td>1</td>\n",
       "      <td>1</td>\n",
       "      <td>1</td>\n",
       "      <td>198129.36</td>\n",
       "      <td>0</td>\n",
       "    </tr>\n",
       "    <tr>\n",
       "      <th>125</th>\n",
       "      <td>126</td>\n",
       "      <td>15627360</td>\n",
       "      <td>Fuller</td>\n",
       "      <td>432</td>\n",
       "      <td>France</td>\n",
       "      <td>Male</td>\n",
       "      <td>42</td>\n",
       "      <td>NaN</td>\n",
       "      <td>152603.45</td>\n",
       "      <td>1</td>\n",
       "      <td>1</td>\n",
       "      <td>0</td>\n",
       "      <td>110265.24</td>\n",
       "      <td>1</td>\n",
       "    </tr>\n",
       "    <tr>\n",
       "      <th>146</th>\n",
       "      <td>147</td>\n",
       "      <td>15705707</td>\n",
       "      <td>Bennelong</td>\n",
       "      <td>635</td>\n",
       "      <td>Spain</td>\n",
       "      <td>Female</td>\n",
       "      <td>29</td>\n",
       "      <td>NaN</td>\n",
       "      <td>138296.94</td>\n",
       "      <td>2</td>\n",
       "      <td>1</td>\n",
       "      <td>0</td>\n",
       "      <td>141075.51</td>\n",
       "      <td>0</td>\n",
       "    </tr>\n",
       "    <tr>\n",
       "      <th>162</th>\n",
       "      <td>163</td>\n",
       "      <td>15630910</td>\n",
       "      <td>Treacy</td>\n",
       "      <td>800</td>\n",
       "      <td>France</td>\n",
       "      <td>Female</td>\n",
       "      <td>49</td>\n",
       "      <td>NaN</td>\n",
       "      <td>108007.36</td>\n",
       "      <td>1</td>\n",
       "      <td>0</td>\n",
       "      <td>0</td>\n",
       "      <td>47125.11</td>\n",
       "      <td>0</td>\n",
       "    </tr>\n",
       "    <tr>\n",
       "      <th>173</th>\n",
       "      <td>174</td>\n",
       "      <td>15586310</td>\n",
       "      <td>Ting</td>\n",
       "      <td>578</td>\n",
       "      <td>France</td>\n",
       "      <td>Male</td>\n",
       "      <td>30</td>\n",
       "      <td>NaN</td>\n",
       "      <td>169462.09</td>\n",
       "      <td>1</td>\n",
       "      <td>1</td>\n",
       "      <td>0</td>\n",
       "      <td>112187.11</td>\n",
       "      <td>0</td>\n",
       "    </tr>\n",
       "    <tr>\n",
       "      <th>180</th>\n",
       "      <td>181</td>\n",
       "      <td>15716334</td>\n",
       "      <td>Rozier</td>\n",
       "      <td>850</td>\n",
       "      <td>Spain</td>\n",
       "      <td>Female</td>\n",
       "      <td>45</td>\n",
       "      <td>NaN</td>\n",
       "      <td>122311.21</td>\n",
       "      <td>1</td>\n",
       "      <td>1</td>\n",
       "      <td>1</td>\n",
       "      <td>19482.50</td>\n",
       "      <td>0</td>\n",
       "    </tr>\n",
       "    <tr>\n",
       "      <th>217</th>\n",
       "      <td>218</td>\n",
       "      <td>15786308</td>\n",
       "      <td>Millar</td>\n",
       "      <td>730</td>\n",
       "      <td>Spain</td>\n",
       "      <td>Female</td>\n",
       "      <td>33</td>\n",
       "      <td>NaN</td>\n",
       "      <td>0.00</td>\n",
       "      <td>2</td>\n",
       "      <td>0</td>\n",
       "      <td>0</td>\n",
       "      <td>176576.62</td>\n",
       "      <td>0</td>\n",
       "    </tr>\n",
       "    <tr>\n",
       "      <th>222</th>\n",
       "      <td>223</td>\n",
       "      <td>15727829</td>\n",
       "      <td>McIntyre</td>\n",
       "      <td>567</td>\n",
       "      <td>France</td>\n",
       "      <td>Male</td>\n",
       "      <td>42</td>\n",
       "      <td>NaN</td>\n",
       "      <td>0.00</td>\n",
       "      <td>2</td>\n",
       "      <td>1</td>\n",
       "      <td>1</td>\n",
       "      <td>167984.61</td>\n",
       "      <td>0</td>\n",
       "    </tr>\n",
       "    <tr>\n",
       "      <th>225</th>\n",
       "      <td>226</td>\n",
       "      <td>15699029</td>\n",
       "      <td>Bagley</td>\n",
       "      <td>670</td>\n",
       "      <td>France</td>\n",
       "      <td>Male</td>\n",
       "      <td>37</td>\n",
       "      <td>NaN</td>\n",
       "      <td>170557.91</td>\n",
       "      <td>2</td>\n",
       "      <td>1</td>\n",
       "      <td>0</td>\n",
       "      <td>198252.88</td>\n",
       "      <td>0</td>\n",
       "    </tr>\n",
       "    <tr>\n",
       "      <th>237</th>\n",
       "      <td>238</td>\n",
       "      <td>15764866</td>\n",
       "      <td>Synnot</td>\n",
       "      <td>539</td>\n",
       "      <td>Germany</td>\n",
       "      <td>Female</td>\n",
       "      <td>43</td>\n",
       "      <td>NaN</td>\n",
       "      <td>116220.50</td>\n",
       "      <td>3</td>\n",
       "      <td>1</td>\n",
       "      <td>0</td>\n",
       "      <td>55803.96</td>\n",
       "      <td>1</td>\n",
       "    </tr>\n",
       "  </tbody>\n",
       "</table>\n",
       "</div>"
      ],
      "text/plain": [
       "     RowNumber  CustomerId    Surname  CreditScore Geography  Gender  Age  \\\n",
       "30          31    15589475    Azikiwe          591     Spain  Female   39   \n",
       "48          49    15766205        Yin          550   Germany    Male   38   \n",
       "51          52    15768193  Trevisani          585   Germany    Male   36   \n",
       "53          54    15702298   Parkhill          655   Germany    Male   41   \n",
       "60          61    15651280     Hunter          742   Germany    Male   35   \n",
       "82          83    15641732      Mills          543    France  Female   36   \n",
       "85          86    15805254    Ndukaku          652     Spain  Female   75   \n",
       "94          95    15676966      Capon          730     Spain    Male   42   \n",
       "99         100    15633059    Fanucci          413    France    Male   34   \n",
       "111        112    15665790   Rowntree          538   Germany    Male   39   \n",
       "123        124    15760085  Calabresi          684   Germany  Female   48   \n",
       "125        126    15627360     Fuller          432    France    Male   42   \n",
       "146        147    15705707  Bennelong          635     Spain  Female   29   \n",
       "162        163    15630910     Treacy          800    France  Female   49   \n",
       "173        174    15586310       Ting          578    France    Male   30   \n",
       "180        181    15716334     Rozier          850     Spain  Female   45   \n",
       "217        218    15786308     Millar          730     Spain  Female   33   \n",
       "222        223    15727829   McIntyre          567    France    Male   42   \n",
       "225        226    15699029     Bagley          670    France    Male   37   \n",
       "237        238    15764866     Synnot          539   Germany  Female   43   \n",
       "\n",
       "     Tenure    Balance  NumOfProducts  HasCrCard  IsActiveMember  \\\n",
       "30      NaN       0.00              3          1               0   \n",
       "48      NaN  103391.38              1          0               1   \n",
       "51      NaN  146050.97              2          0               0   \n",
       "53      NaN  125561.97              1          0               0   \n",
       "60      NaN  136857.00              1          0               0   \n",
       "82      NaN       0.00              2          0               0   \n",
       "85      NaN       0.00              2          1               1   \n",
       "94      NaN       0.00              2          0               1   \n",
       "99      NaN       0.00              2          0               0   \n",
       "111     NaN  108055.10              2          1               0   \n",
       "123     NaN  126384.42              1          1               1   \n",
       "125     NaN  152603.45              1          1               0   \n",
       "146     NaN  138296.94              2          1               0   \n",
       "162     NaN  108007.36              1          0               0   \n",
       "173     NaN  169462.09              1          1               0   \n",
       "180     NaN  122311.21              1          1               1   \n",
       "217     NaN       0.00              2          0               0   \n",
       "222     NaN       0.00              2          1               1   \n",
       "225     NaN  170557.91              2          1               0   \n",
       "237     NaN  116220.50              3          1               0   \n",
       "\n",
       "     EstimatedSalary  Exited  \n",
       "30         140469.38       1  \n",
       "48          90878.13       0  \n",
       "51          86424.57       0  \n",
       "53         164040.94       1  \n",
       "60          84509.57       0  \n",
       "82          26019.59       0  \n",
       "85         114675.75       0  \n",
       "94          85982.47       0  \n",
       "99           6534.18       0  \n",
       "111         27231.26       0  \n",
       "123        198129.36       0  \n",
       "125        110265.24       1  \n",
       "146        141075.51       0  \n",
       "162         47125.11       0  \n",
       "173        112187.11       0  \n",
       "180         19482.50       0  \n",
       "217        176576.62       0  \n",
       "222        167984.61       0  \n",
       "225        198252.88       0  \n",
       "237         55803.96       1  "
      ]
     },
     "execution_count": 8,
     "metadata": {},
     "output_type": "execute_result"
    }
   ],
   "source": [
    "df_churn[df_churn['Tenure'].isna()].head(20)"
   ]
  },
  {
   "cell_type": "markdown",
   "id": "de8fcc06",
   "metadata": {},
   "source": [
    "Уточним количество количество объектов положительного класса среди всех объектов с пропусками в столбце `Tenure`."
   ]
  },
  {
   "cell_type": "code",
   "execution_count": 9,
   "id": "24c32181",
   "metadata": {},
   "outputs": [
    {
     "data": {
      "text/plain": [
       "183"
      ]
     },
     "execution_count": 9,
     "metadata": {},
     "output_type": "execute_result"
    }
   ],
   "source": [
    "df_churn[(df_churn['Tenure'].isna()) & (df_churn['Exited'] == 1)].shape[0]"
   ]
  },
  {
   "cell_type": "code",
   "execution_count": 10,
   "id": "d711b2fd",
   "metadata": {},
   "outputs": [
    {
     "data": {
      "text/plain": [
       "0    7963\n",
       "1    2037\n",
       "Name: Exited, dtype: int64"
      ]
     },
     "execution_count": 10,
     "metadata": {},
     "output_type": "execute_result"
    }
   ],
   "source": [
    "df_churn['Exited'].value_counts()"
   ]
  },
  {
   "cell_type": "markdown",
   "id": "799ba336",
   "metadata": {},
   "source": [
    "Количество весьма ощутимое в отношение всего количества объектов положительного класса."
   ]
  },
  {
   "cell_type": "markdown",
   "id": "b7fa5e5d",
   "metadata": {},
   "source": [
    "По видимому в объектах таблицы с пропусками в столбце `Tenure` нет ничего общего, нет кандидатуры для замены пропусков значениями без искажения данных, сам же столбец не может быть настолько показателен для определения целевого признака, удалим данный столбец, поскольку положительный класс гораздо ценнее."
   ]
  },
  {
   "cell_type": "code",
   "execution_count": 11,
   "id": "daebbca0",
   "metadata": {},
   "outputs": [],
   "source": [
    "df_churn = df_churn.drop(['Tenure'], axis=1)"
   ]
  },
  {
   "cell_type": "markdown",
   "id": "97c9ca9b",
   "metadata": {},
   "source": [
    "Рассмотрим позиции в столбце `Geography`."
   ]
  },
  {
   "cell_type": "code",
   "execution_count": 12,
   "id": "f6027363",
   "metadata": {},
   "outputs": [
    {
     "data": {
      "text/plain": [
       "France     5014\n",
       "Germany    2509\n",
       "Spain      2477\n",
       "Name: Geography, dtype: int64"
      ]
     },
     "execution_count": 12,
     "metadata": {},
     "output_type": "execute_result"
    }
   ],
   "source": [
    "df_churn['Geography'].value_counts()"
   ]
  },
  {
   "cell_type": "markdown",
   "id": "7c1fd496",
   "metadata": {},
   "source": [
    "Признак содержит всего три вариации, сохраним его в окончательном варианте набора признаков для обучения и проверки модели. "
   ]
  },
  {
   "cell_type": "markdown",
   "id": "f5beff2e",
   "metadata": {},
   "source": [
    "Далее проиллюстрируем баланс распределение бинарных значение в столбце целевого признака."
   ]
  },
  {
   "cell_type": "code",
   "execution_count": 13,
   "id": "c0ab6539",
   "metadata": {},
   "outputs": [
    {
     "data": {
      "text/plain": [
       "0    7963\n",
       "1    2037\n",
       "Name: Exited, dtype: int64"
      ]
     },
     "execution_count": 13,
     "metadata": {},
     "output_type": "execute_result"
    }
   ],
   "source": [
    "df_churn['Exited'].value_counts()"
   ]
  },
  {
   "cell_type": "markdown",
   "id": "2de04d39",
   "metadata": {},
   "source": [
    "Как и предполагалось, в целевой признаке обнаружил себя явный дисбаланс, большинство - около 80% - клиентов остаються с банком. Нам важно это учесть в дальнейшем. "
   ]
  },
  {
   "cell_type": "markdown",
   "id": "24f2145b",
   "metadata": {},
   "source": [
    "Перейдем к обзору количественных переменных в данных. Построим графики распределения данных признаков."
   ]
  },
  {
   "cell_type": "markdown",
   "id": "0bfbc52c",
   "metadata": {},
   "source": [
    "Столбец `CreditScore`, который отражает кредитный рейтинг клиентов банка:"
   ]
  },
  {
   "cell_type": "code",
   "execution_count": 14,
   "id": "e42cf37b",
   "metadata": {},
   "outputs": [
    {
     "data": {
      "text/plain": [
       "count    10000.000000\n",
       "mean       650.528800\n",
       "std         96.653299\n",
       "min        350.000000\n",
       "25%        584.000000\n",
       "50%        652.000000\n",
       "75%        718.000000\n",
       "max        850.000000\n",
       "Name: CreditScore, dtype: float64"
      ]
     },
     "execution_count": 14,
     "metadata": {},
     "output_type": "execute_result"
    }
   ],
   "source": [
    "df_churn['CreditScore'].describe()"
   ]
  },
  {
   "cell_type": "code",
   "execution_count": 15,
   "id": "e1cb7247",
   "metadata": {},
   "outputs": [
    {
     "name": "stderr",
     "output_type": "stream",
     "text": [
      "C:\\Users\\roma_\\AppData\\Local\\Temp\\ipykernel_9096\\2406137780.py:5: MatplotlibDeprecationWarning: Auto-removal of overlapping axes is deprecated since 3.6 and will be removed two minor releases later; explicitly call ax.remove() as needed.\n",
      "  ax_1 = plt.subplot2grid((3, 3), (0, 0), colspan=2, rowspan=3)\n"
     ]
    },
    {
     "data": {
      "image/png": "[encoded data removed]",
      "text/plain": [
       "<Figure size 2000x900 with 2 Axes>"
      ]
     },
     "metadata": {},
     "output_type": "display_data"
    }
   ],
   "source": [
    "fig, (ax_1, ax_2) = plt.subplots(2, figsize=(20, 9))\n",
    "\n",
    "fig.suptitle('Распределение значений кредитного рейтинга клиентов банка', fontsize=20)\n",
    "\n",
    "ax_1 = plt.subplot2grid((3, 3), (0, 0), colspan=2, rowspan=3)\n",
    "ax_2 = plt.subplot2grid((3, 3), (0, 2), rowspan=3)\n",
    "\n",
    "ax_1.hist(df_churn['CreditScore'], 60, facecolor='g', alpha=0.7)\n",
    "ax_2.boxplot(df_churn['CreditScore'])\n",
    "\n",
    "plt.xticks([1], ['boxplot столбца \"CreditScore\"'])\n",
    "\n",
    "ax_1.set_xlabel('Кредитный рейтинг', fontsize=15)\n",
    "ax_2.set_ylabel('Кредитный рейтинг', fontsize=15)\n",
    "\n",
    "plt.show()"
   ]
  },
  {
   "cell_type": "markdown",
   "id": "dc4bb6e0",
   "metadata": {},
   "source": [
    "Распределение значения кредитного рейтинга имеет нормальный вид. Очевидно, что существует предельная кредитная оценка в значении 850 единиц. "
   ]
  },
  {
   "cell_type": "markdown",
   "id": "20d3638b",
   "metadata": {},
   "source": [
    "Столбец `'Age'`."
   ]
  },
  {
   "cell_type": "code",
   "execution_count": 16,
   "id": "836a783f",
   "metadata": {},
   "outputs": [
    {
     "data": {
      "text/plain": [
       "count    10000.000000\n",
       "mean        38.921800\n",
       "std         10.487806\n",
       "min         18.000000\n",
       "25%         32.000000\n",
       "50%         37.000000\n",
       "75%         44.000000\n",
       "max         92.000000\n",
       "Name: Age, dtype: float64"
      ]
     },
     "execution_count": 16,
     "metadata": {},
     "output_type": "execute_result"
    }
   ],
   "source": [
    "df_churn['Age'].describe()"
   ]
  },
  {
   "cell_type": "code",
   "execution_count": 17,
   "id": "bbeed9a1",
   "metadata": {},
   "outputs": [
    {
     "name": "stderr",
     "output_type": "stream",
     "text": [
      "C:\\Users\\roma_\\AppData\\Local\\Temp\\ipykernel_9096\\320704584.py:5: MatplotlibDeprecationWarning: Auto-removal of overlapping axes is deprecated since 3.6 and will be removed two minor releases later; explicitly call ax.remove() as needed.\n",
      "  ax_1 = plt.subplot2grid((3, 3), (0, 0), colspan=2, rowspan=3)\n"
     ]
    },
    {
     "data": {
      "image/png": "[encoded data removed]",
      "text/plain": [
       "<Figure size 2000x900 with 2 Axes>"
      ]
     },
     "metadata": {},
     "output_type": "display_data"
    }
   ],
   "source": [
    "fig, (ax_1, ax_2) = plt.subplots(2, figsize=(20, 9))\n",
    "\n",
    "fig.suptitle('Распределение возрастного состава клиентов банка', fontsize=20)\n",
    "\n",
    "ax_1 = plt.subplot2grid((3, 3), (0, 0), colspan=2, rowspan=3)\n",
    "ax_2 = plt.subplot2grid((3, 3), (0, 2), rowspan=3)\n",
    "\n",
    "ax_1.hist(df_churn['Age'], 60, facecolor='g', alpha=0.7)\n",
    "ax_2.boxplot(df_churn['Age'])\n",
    "\n",
    "plt.xticks([1], ['boxplot столбца \"Age\"'])\n",
    "\n",
    "ax_1.set_xlabel('Возраст', fontsize=15)\n",
    "ax_2.set_ylabel('Возраст', fontsize=15)\n",
    "\n",
    "plt.show()"
   ]
  },
  {
   "cell_type": "markdown",
   "id": "99716178",
   "metadata": {},
   "source": [
    "Распределение также имеет нормальный вид, со скошенностью данных вправо, и минимальным возрастным пределом для клиента банка - 18 лет. "
   ]
  },
  {
   "cell_type": "markdown",
   "id": "ad34d4b1",
   "metadata": {},
   "source": [
    "Следующий столбец `'Balance'`, который сообщает о остатке на счете клиентов банка."
   ]
  },
  {
   "cell_type": "code",
   "execution_count": 18,
   "id": "df9b84aa",
   "metadata": {},
   "outputs": [
    {
     "data": {
      "text/plain": [
       "count     10000.000000\n",
       "mean      76485.889288\n",
       "std       62397.405202\n",
       "min           0.000000\n",
       "25%           0.000000\n",
       "50%       97198.540000\n",
       "75%      127644.240000\n",
       "max      250898.090000\n",
       "Name: Balance, dtype: float64"
      ]
     },
     "execution_count": 18,
     "metadata": {},
     "output_type": "execute_result"
    }
   ],
   "source": [
    "df_churn['Balance'].describe()"
   ]
  },
  {
   "cell_type": "code",
   "execution_count": 19,
   "id": "0c945004",
   "metadata": {},
   "outputs": [
    {
     "name": "stderr",
     "output_type": "stream",
     "text": [
      "C:\\Users\\roma_\\AppData\\Local\\Temp\\ipykernel_9096\\1221502517.py:5: MatplotlibDeprecationWarning: Auto-removal of overlapping axes is deprecated since 3.6 and will be removed two minor releases later; explicitly call ax.remove() as needed.\n",
      "  ax_1 = plt.subplot2grid((3, 3), (0, 0), colspan=2, rowspan=3)\n"
     ]
    },
    {
     "data": {
      "image/png": "[encoded data removed]",
      "text/plain": [
       "<Figure size 2000x900 with 2 Axes>"
      ]
     },
     "metadata": {},
     "output_type": "display_data"
    }
   ],
   "source": [
    "fig, (ax_1, ax_2) = plt.subplots(2, figsize=(20, 9))\n",
    "\n",
    "fig.suptitle('Распределение остатка на счете клиентов банка', fontsize=20)\n",
    "\n",
    "ax_1 = plt.subplot2grid((3, 3), (0, 0), colspan=2, rowspan=3)\n",
    "ax_2 = plt.subplot2grid((3, 3), (0, 2), rowspan=3)\n",
    "\n",
    "ax_1.hist(df_churn['Balance'], 60, facecolor='g', alpha=0.7)\n",
    "ax_2.boxplot(df_churn['Balance'])\n",
    "\n",
    "plt.xticks([1], ['boxplot столбца \"Balance\"'])\n",
    "\n",
    "ax_1.set_xlabel('Остаток на счете', fontsize=15)\n",
    "ax_2.set_ylabel('Остаток на счете', fontsize=15)\n",
    "\n",
    "plt.show()"
   ]
  },
  {
   "cell_type": "markdown",
   "id": "40320d92",
   "metadata": {},
   "source": [
    "Как видим из гистограммы, внушительная часть клиентов имеет нулевой остаток на счете (зафиксировано более 3500 счетов без средств на них). Статистически - это, конечно, аномалия, на практике же довольно распространенное явление, и показатель нулевого остатка будет будет важным для нашей модели, потому оставим данные в столбце в оригинальном значении. В остальном распределение носит нормальный характер:"
   ]
  },
  {
   "cell_type": "code",
   "execution_count": 20,
   "id": "0457d677",
   "metadata": {},
   "outputs": [
    {
     "data": {
      "image/png": "[encoded data removed]",
      "text/plain": [
       "<Figure size 2000x900 with 1 Axes>"
      ]
     },
     "metadata": {},
     "output_type": "display_data"
    }
   ],
   "source": [
    "fig, axes = plt.subplots(figsize=(20, 9))\n",
    "\n",
    "fig.suptitle('Распределение остатка на счете клиентов банка', fontsize=20)\n",
    "\n",
    "axes = plt.subplot()\n",
    "axes.hist(df_churn['Balance'], 60, facecolor='g', alpha=0.7)\n",
    "\n",
    "axes.set_xlabel('Остаток на счете', fontsize=15)\n",
    "\n",
    "axes.set_xlim(xmin=50000, xmax=200000)\n",
    "axes.set_ylim(ymax=500)\n",
    "plt.show()"
   ]
  },
  {
   "cell_type": "markdown",
   "id": "068f02b2",
   "metadata": {},
   "source": [
    "Столбец `EstimatedSalary` указывает на предполагаемое значение заработной платы клиентов банка."
   ]
  },
  {
   "cell_type": "code",
   "execution_count": 21,
   "id": "7e501b22",
   "metadata": {},
   "outputs": [
    {
     "data": {
      "text/plain": [
       "count     10000.000000\n",
       "mean     100090.239881\n",
       "std       57510.492818\n",
       "min          11.580000\n",
       "25%       51002.110000\n",
       "50%      100193.915000\n",
       "75%      149388.247500\n",
       "max      199992.480000\n",
       "Name: EstimatedSalary, dtype: float64"
      ]
     },
     "execution_count": 21,
     "metadata": {},
     "output_type": "execute_result"
    }
   ],
   "source": [
    "df_churn['EstimatedSalary'].describe()"
   ]
  },
  {
   "cell_type": "code",
   "execution_count": 22,
   "id": "4ebe2ccd",
   "metadata": {},
   "outputs": [
    {
     "name": "stderr",
     "output_type": "stream",
     "text": [
      "C:\\Users\\roma_\\AppData\\Local\\Temp\\ipykernel_9096\\3803298966.py:5: MatplotlibDeprecationWarning: Auto-removal of overlapping axes is deprecated since 3.6 and will be removed two minor releases later; explicitly call ax.remove() as needed.\n",
      "  ax_1 = plt.subplot2grid((3, 3), (0, 0), colspan=2, rowspan=3)\n"
     ]
    },
    {
     "data": {
      "image/png": "[encoded data removed]",
      "text/plain": [
       "<Figure size 2000x900 with 2 Axes>"
      ]
     },
     "metadata": {},
     "output_type": "display_data"
    }
   ],
   "source": [
    "fig, (ax_1, ax_2) = plt.subplots(2, figsize=(20, 9))\n",
    "\n",
    "fig.suptitle('Распределение предполагаемого размера заработной платы клиентов банка', fontsize=20)\n",
    "\n",
    "ax_1 = plt.subplot2grid((3, 3), (0, 0), colspan=2, rowspan=3)\n",
    "ax_2 = plt.subplot2grid((3, 3), (0, 2), rowspan=3)\n",
    "\n",
    "ax_1.hist(df_churn['EstimatedSalary'], 60, facecolor='g', alpha=0.7)\n",
    "ax_2.boxplot(df_churn['EstimatedSalary'])\n",
    "\n",
    "plt.xticks([1], ['boxplot столбца \"EstimatedSalary\"'])\n",
    "\n",
    "ax_1.set_xlabel('Размер заработной платы', fontsize=15)\n",
    "ax_2.set_ylabel('Размер заработной платы', fontsize=15)\n",
    "\n",
    "plt.show()"
   ]
  },
  {
   "cell_type": "markdown",
   "id": "37cecd1f",
   "metadata": {},
   "source": [
    "Распределение заработной платы в датасете представлено равномерное. "
   ]
  },
  {
   "cell_type": "markdown",
   "id": "cfac6c5c",
   "metadata": {},
   "source": [
    "Проанализировав предоставленные данные может заключить об отличном их качестве, отсутствии аномалий, дубликатов, нормальном распределении. Важно отметить, что количественные переменные имеют разный масштаб, что важно учитывать при обучении модели. Это хороший залог для предстоящего обучения нашей модели. Но прежде подготовим параметры для обучения."
   ]
  },
  {
   "cell_type": "markdown",
   "id": "a24f1c0f",
   "metadata": {},
   "source": [
    "### Работа с параметрами датасета"
   ]
  },
  {
   "cell_type": "code",
   "execution_count": 23,
   "id": "65966a74",
   "metadata": {},
   "outputs": [
    {
     "ename": "NameError",
     "evalue": "name 'iycyvuopnno' is not defined",
     "output_type": "error",
     "traceback": [
      "\u001b[1;31m---------------------------------------------------------------------------\u001b[0m",
      "\u001b[1;31mNameError\u001b[0m                                 Traceback (most recent call last)",
      "Cell \u001b[1;32mIn[23], line 1\u001b[0m\n\u001b[1;32m----> 1\u001b[0m \u001b[43miycyvuopnno\u001b[49m\n",
      "\u001b[1;31mNameError\u001b[0m: name 'iycyvuopnno' is not defined"
     ]
    }
   ],
   "source": [
    "iycyvuopnno"
   ]
  },
  {
   "cell_type": "markdown",
   "id": "c76d55b3",
   "metadata": {},
   "source": [
    "Первое что нужно нужно сделать, это исключить из датасета столбцы `'RowNumber', 'CustomerId', 'Surname'`, данные в которых не являются информативными, потому лучше сразу от них избавиться."
   ]
  },
  {
   "cell_type": "code",
   "execution_count": 24,
   "id": "ae29d71d",
   "metadata": {},
   "outputs": [],
   "source": [
    "df_churn = df_churn.drop(['RowNumber', 'CustomerId', 'Surname'], axis=1)"
   ]
  },
  {
   "cell_type": "markdown",
   "id": "8c2f7dba",
   "metadata": {},
   "source": [
    "Из общего датасета выделим обучающую, валидационноу и тестовую выборки, применив функцию `train_test_split()`.Соотношение размера выборок определим, как 60%:20%:20%, соответственно, обучающая:валидационная:тестовая.\n",
    "Воспользуемся параметром `stratify=df_churn['Exited']`, это позволит сохранить изначальное распределение таргетов во всех новых датасетах."
   ]
  },
  {
   "cell_type": "code",
   "execution_count": 25,
   "id": "80bb71c3",
   "metadata": {},
   "outputs": [],
   "source": [
    "churn_train_and_valid, churn_test = \\\n",
    "train_test_split(df_churn, test_size=0.2, random_state=12345, stratify=df_churn['Exited'])\n",
    "\n",
    "churn_train, churn_valid = \\\n",
    "train_test_split(churn_train_and_valid, test_size=0.25, random_state=12345, stratify=churn_train_and_valid['Exited'])"
   ]
  },
  {
   "cell_type": "markdown",
   "id": "67de047a",
   "metadata": {},
   "source": [
    "Далее отделим целевой признак от остальных для наших выборок. "
   ]
  },
  {
   "cell_type": "code",
   "execution_count": 26,
   "id": "86eccefd",
   "metadata": {},
   "outputs": [],
   "source": [
    "target_train = churn_train['Exited']\n",
    "features_train = churn_train.drop('Exited', axis=1)\n",
    "\n",
    "target_valid = churn_valid['Exited']\n",
    "features_valid = churn_valid.drop('Exited', axis=1)\n",
    "\n",
    "target_test = churn_test['Exited']\n",
    "features_test = churn_test.drop('Exited', axis=1)"
   ]
  },
  {
   "cell_type": "markdown",
   "id": "dd5109c6",
   "metadata": {},
   "source": [
    "Как мы заметили ранее у количественных признаков наблюдается разный размах данных, с помощью метода `StandardScaler()`приведем признаки к единому масштабу. Тестовую выборку отложим до этапа тестирования лучшей модели."
   ]
  },
  {
   "cell_type": "code",
   "execution_count": 27,
   "id": "a54db354",
   "metadata": {},
   "outputs": [],
   "source": [
    "numeric = ['CreditScore', 'Age', 'Balance', 'EstimatedSalary', 'NumOfProducts']\n",
    "\n",
    "scaler = StandardScaler()\n",
    "scaler.fit(features_train[numeric])\n",
    "\n",
    "features_train[numeric] = scaler.transform(features_train[numeric])\n",
    "features_valid[numeric] = scaler.transform(features_valid[numeric])\n",
    "features_test[numeric] = scaler.transform(features_test[numeric])"
   ]
  },
  {
   "cell_type": "markdown",
   "id": "319d9a99",
   "metadata": {},
   "source": [
    "Далее преобразуем техникой прямого и порядкового кодирования категориальные признаки в численные для наших моделей."
   ]
  },
  {
   "cell_type": "code",
   "execution_count": 28,
   "id": "368c3540",
   "metadata": {},
   "outputs": [],
   "source": [
    "categories = ['Geography', 'Gender']"
   ]
  },
  {
   "cell_type": "code",
   "execution_count": null,
   "id": "1621ad5a",
   "metadata": {},
   "outputs": [],
   "source": [
    "transformer = make_column_transformer((OneHotEncoder(handle_unknown='ignore'), categories), remainder='passthrough', verbose_feature_names_out='False')"
   ]
  },
  {
   "cell_type": "code",
   "execution_count": null,
   "id": "18ddef62",
   "metadata": {},
   "outputs": [],
   "source": [
    "transformed = transformer.fit_transform(features_train)\n",
    "features_train_ohe = pd.DataFrame(transformed, columns=transformer.get_feature_names_out())\n",
    "\n",
    "transformed = transformer.transform(features_valid)\n",
    "features_valid_ohe = pd.DataFrame(transformed, columns=transformer.get_feature_names_out())\n",
    "\n",
    "transformed = transformer.transform(features_test)\n",
    "features_test_ohe = pd.DataFrame(transformed, columns=transformer.get_feature_names_out())"
   ]
  },
  {
   "cell_type": "code",
   "execution_count": null,
   "id": "b87bbf36",
   "metadata": {},
   "outputs": [],
   "source": [
    "transformer_oe = make_column_transformer((OrdinalEncoder(), categories), remainder='passthrough', verbose_feature_names_out='False')"
   ]
  },
  {
   "cell_type": "code",
   "execution_count": null,
   "id": "46bcc60c",
   "metadata": {},
   "outputs": [],
   "source": [
    "transformed = transformer_oe.fit_transform(features_train)\n",
    "features_train_oe = pd.DataFrame(transformed, columns=transformer_oe.get_feature_names_out())\n",
    "\n",
    "transformed = transformer_oe.transform(features_valid)\n",
    "features_valid_oe = pd.DataFrame(transformed, columns=transformer_oe.get_feature_names_out())\n",
    "\n",
    "transformed = transformer_oe.transform(features_test)\n",
    "features_test_oe = pd.DataFrame(transformed, columns=transformer_oe.get_feature_names_out())"
   ]
  },
  {
   "cell_type": "markdown",
   "id": "f44ea869",
   "metadata": {},
   "source": [
    "Проверим долю строк в сформированных датасетах от их общего количества в исходной датафрейме."
   ]
  },
  {
   "cell_type": "code",
   "execution_count": 29,
   "id": "a379f1d4",
   "metadata": {},
   "outputs": [
    {
     "name": "stdout",
     "output_type": "stream",
     "text": [
      "Доля строк от общего количества в обучающей выборке: 0.60 \n",
      "Доля строк от общего количества в валидационной выборке: 0.20 \n",
      "Доля строк от общего количества в тестовой выборке: 0.20\n"
     ]
    }
   ],
   "source": [
    "print(f'Доля строк от общего количества в обучающей выборке: {len(features_train) / len(df_churn):.2f} \\\n",
    "\\nДоля строк от общего количества в валидационной выборке: {len(features_valid) / len(df_churn):.2f} \\\n",
    "\\nДоля строк от общего количества в тестовой выборке: {len(features_test) / len(df_churn):.2f}')"
   ]
  },
  {
   "cell_type": "markdown",
   "id": "d212a7ce",
   "metadata": {},
   "source": [
    "В результате проведенной работы с признаками мы имеем набор датасетов, приведенных к единому масштабу в количественных признаков, категориальные признаки приведены к численным, отсеяны непоказательные признаки. "
   ]
  },
  {
   "cell_type": "markdown",
   "id": "249d7dc9",
   "metadata": {},
   "source": [
    "Проведем эксперимент с Pipeline."
   ]
  },
  {
   "cell_type": "code",
   "execution_count": 58,
   "id": "2a293d6c",
   "metadata": {},
   "outputs": [],
   "source": [
    "def objective(trial):\n",
    "    \n",
    "    classifier_name = trial.suggest_categorical(\"classifier\", [\"Logistic\", \"Tree\", \"Forest\"])\n",
    "    \n",
    "    if classifier_name == \"Logistic\":\n",
    "        logreg_s = trial.suggest_categorical('solver' , ['lbfgs','liblinear'])\n",
    "        categorical_transformer = Pipeline(steps=[('onehot', OneHotEncoder(handle_unknown='ignore'))])\n",
    "        model = LogisticRegression(solver=logreg_s)\n",
    "        \n",
    "    \n",
    "    \n",
    "    elif classifier_name == \"Tree\":\n",
    "        dt_md = trial.suggest_int('max_depth', 2, 20)\n",
    "        dt_sl = trial.suggest_int('min_inst', 1, 32)\n",
    "        categorical_transformer = Pipeline(steps=[('ordinal', OrdinalEncoder())])\n",
    "        model = DecisionTreeClassifier(max_depth=dt_md, min_samples_leaf=dt_sl, random_state=12345)\n",
    "        \n",
    "    else:\n",
    "        rf_md = trial.suggest_int(\"rf_md\", 2, 25, log=True)\n",
    "        rf_n_estimators = trial.suggest_int('rf_num_estimators', 5, 100)\n",
    "        categorical_transformer = Pipeline(steps=[('ordinal', OrdinalEncoder())])\n",
    "        model = RandomForestClassifier(max_depth=rf_md, n_estimators=rf_n_estimators, random_state=12345)\n",
    "\n",
    "        \n",
    "                                                  \n",
    "    preprocessor = make_column_transformer((categorical_transformer, categories), remainder='passthrough', verbose_feature_names_out=False)\n",
    "    \n",
    "    pipe = Pipeline(steps=[\n",
    "        (\"preprocessor\", preprocessor),\n",
    "        (\"model\", model)\n",
    "    ])\n",
    "                                                \n",
    "\n",
    "    score = cross_val_score(pipe, features_train, target_train, scoring='f1', cv=5)\n",
    "    f1_mean = score.mean() \n",
    "    return f1_mean"
   ]
  },
  {
   "cell_type": "code",
   "execution_count": 59,
   "id": "f39c28b0",
   "metadata": {
    "scrolled": false
   },
   "outputs": [
    {
     "name": "stderr",
     "output_type": "stream",
     "text": [
      "[I 2023-07-26 00:07:49,349] A new study created in memory with name: no-name-9c94cc1d-5622-459f-9d2c-fb27c85ce325\n",
      "[I 2023-07-26 00:07:49,694] Trial 0 finished with value: 0.3092737103960145 and parameters: {'classifier': 'Logistic', 'solver': 'lbfgs'}. Best is trial 0 with value: 0.3092737103960145.\n",
      "[I 2023-07-26 00:07:52,655] Trial 1 finished with value: 0.23810453528510916 and parameters: {'classifier': 'Forest', 'rf_md': 2, 'rf_num_estimators': 97}. Best is trial 0 with value: 0.3092737103960145.\n",
      "[I 2023-07-26 00:07:52,863] Trial 2 finished with value: 0.3092737103960145 and parameters: {'classifier': 'Logistic', 'solver': 'liblinear'}. Best is trial 0 with value: 0.3092737103960145.\n",
      "[I 2023-07-26 00:07:53,169] Trial 3 finished with value: 0.3092737103960145 and parameters: {'classifier': 'Logistic', 'solver': 'lbfgs'}. Best is trial 0 with value: 0.3092737103960145.\n",
      "[I 2023-07-26 00:07:53,425] Trial 4 finished with value: 0.5425145083115871 and parameters: {'classifier': 'Tree', 'max_depth': 15, 'min_inst': 10}. Best is trial 4 with value: 0.5425145083115871.\n",
      "[I 2023-07-26 00:07:53,719] Trial 5 finished with value: 0.5338788159546789 and parameters: {'classifier': 'Tree', 'max_depth': 11, 'min_inst': 3}. Best is trial 4 with value: 0.5425145083115871.\n",
      "[I 2023-07-26 00:07:53,945] Trial 6 finished with value: 0.5073075955469337 and parameters: {'classifier': 'Tree', 'max_depth': 5, 'min_inst': 24}. Best is trial 4 with value: 0.5425145083115871.\n",
      "[I 2023-07-26 00:07:55,001] Trial 7 finished with value: 0.44210472320694105 and parameters: {'classifier': 'Forest', 'rf_md': 4, 'rf_num_estimators': 24}. Best is trial 4 with value: 0.5425145083115871.\n",
      "[I 2023-07-26 00:07:55,267] Trial 8 finished with value: 0.3092737103960145 and parameters: {'classifier': 'Logistic', 'solver': 'lbfgs'}. Best is trial 4 with value: 0.5425145083115871.\n",
      "[I 2023-07-26 00:07:55,557] Trial 9 finished with value: 0.5020738687353685 and parameters: {'classifier': 'Tree', 'max_depth': 19, 'min_inst': 3}. Best is trial 4 with value: 0.5425145083115871.\n",
      "[I 2023-07-26 00:07:55,832] Trial 10 finished with value: 0.5385906643908753 and parameters: {'classifier': 'Tree', 'max_depth': 18, 'min_inst': 16}. Best is trial 4 with value: 0.5425145083115871.\n",
      "[I 2023-07-26 00:07:56,106] Trial 11 finished with value: 0.5384392672116559 and parameters: {'classifier': 'Tree', 'max_depth': 18, 'min_inst': 15}. Best is trial 4 with value: 0.5425145083115871.\n",
      "[I 2023-07-26 00:07:56,396] Trial 12 finished with value: 0.5384392672116559 and parameters: {'classifier': 'Tree', 'max_depth': 14, 'min_inst': 15}. Best is trial 4 with value: 0.5425145083115871.\n",
      "[I 2023-07-26 00:07:56,672] Trial 13 finished with value: 0.5475866174264528 and parameters: {'classifier': 'Tree', 'max_depth': 14, 'min_inst': 12}. Best is trial 13 with value: 0.5475866174264528.\n",
      "[I 2023-07-26 00:07:56,976] Trial 14 finished with value: 0.5537053721477677 and parameters: {'classifier': 'Tree', 'max_depth': 12, 'min_inst': 9}. Best is trial 14 with value: 0.5537053721477677.\n",
      "[I 2023-07-26 00:07:57,254] Trial 15 finished with value: 0.5485550199924096 and parameters: {'classifier': 'Tree', 'max_depth': 10, 'min_inst': 8}. Best is trial 14 with value: 0.5537053721477677.\n",
      "[I 2023-07-26 00:08:02,991] Trial 16 finished with value: 0.5550484401469824 and parameters: {'classifier': 'Forest', 'rf_md': 22, 'rf_num_estimators': 78}. Best is trial 16 with value: 0.5550484401469824.\n",
      "[I 2023-07-26 00:08:08,632] Trial 17 finished with value: 0.5567617513550605 and parameters: {'classifier': 'Forest', 'rf_md': 23, 'rf_num_estimators': 77}. Best is trial 17 with value: 0.5567617513550605.\n",
      "[I 2023-07-26 00:08:14,381] Trial 18 finished with value: 0.5543499598023099 and parameters: {'classifier': 'Forest', 'rf_md': 25, 'rf_num_estimators': 78}. Best is trial 17 with value: 0.5567617513550605.\n",
      "[I 2023-07-26 00:08:18,846] Trial 19 finished with value: 0.5582228569551808 and parameters: {'classifier': 'Forest', 'rf_md': 24, 'rf_num_estimators': 60}. Best is trial 19 with value: 0.5582228569551808.\n",
      "[I 2023-07-26 00:08:22,338] Trial 20 finished with value: 0.5555573619473567 and parameters: {'classifier': 'Forest', 'rf_md': 13, 'rf_num_estimators': 50}. Best is trial 19 with value: 0.5582228569551808.\n",
      "[I 2023-07-26 00:08:26,052] Trial 21 finished with value: 0.5629863461086769 and parameters: {'classifier': 'Forest', 'rf_md': 17, 'rf_num_estimators': 49}. Best is trial 21 with value: 0.5629863461086769.\n",
      "[I 2023-07-26 00:08:29,812] Trial 22 finished with value: 0.5570980228216631 and parameters: {'classifier': 'Forest', 'rf_md': 15, 'rf_num_estimators': 51}. Best is trial 21 with value: 0.5629863461086769.\n",
      "[I 2023-07-26 00:08:33,165] Trial 23 finished with value: 0.5535521804273584 and parameters: {'classifier': 'Forest', 'rf_md': 12, 'rf_num_estimators': 49}. Best is trial 21 with value: 0.5629863461086769.\n",
      "[I 2023-07-26 00:08:35,670] Trial 24 finished with value: 0.5525961770730099 and parameters: {'classifier': 'Forest', 'rf_md': 12, 'rf_num_estimators': 36}. Best is trial 21 with value: 0.5629863461086769.\n",
      "[I 2023-07-26 00:08:40,540] Trial 25 finished with value: 0.5525789036130281 and parameters: {'classifier': 'Forest', 'rf_md': 15, 'rf_num_estimators': 63}. Best is trial 21 with value: 0.5629863461086769.\n",
      "[I 2023-07-26 00:08:44,551] Trial 26 finished with value: 0.5423085920845359 and parameters: {'classifier': 'Forest', 'rf_md': 9, 'rf_num_estimators': 61}. Best is trial 21 with value: 0.5629863461086769.\n",
      "[I 2023-07-26 00:08:48,091] Trial 27 finished with value: 0.5615102527547272 and parameters: {'classifier': 'Forest', 'rf_md': 19, 'rf_num_estimators': 39}. Best is trial 21 with value: 0.5629863461086769.\n",
      "[I 2023-07-26 00:08:51,166] Trial 28 finished with value: 0.5652303528770347 and parameters: {'classifier': 'Forest', 'rf_md': 25, 'rf_num_estimators': 33}. Best is trial 28 with value: 0.5652303528770347.\n",
      "[I 2023-07-26 00:08:52,245] Trial 29 finished with value: 0.5227554417153542 and parameters: {'classifier': 'Forest', 'rf_md': 17, 'rf_num_estimators': 8}. Best is trial 28 with value: 0.5652303528770347.\n"
     ]
    }
   ],
   "source": [
    "study = optuna.create_study(direction=\"maximize\") \n",
    "study.optimize(objective, n_trials=30)"
   ]
  },
  {
   "cell_type": "code",
   "execution_count": 60,
   "id": "f332c4c7",
   "metadata": {},
   "outputs": [
    {
     "data": {
      "text/plain": [
       "FrozenTrial(number=28, state=TrialState.COMPLETE, values=[0.5652303528770347], datetime_start=datetime.datetime(2023, 7, 26, 0, 8, 48, 91038), datetime_complete=datetime.datetime(2023, 7, 26, 0, 8, 51, 166131), params={'classifier': 'Forest', 'rf_md': 25, 'rf_num_estimators': 33}, user_attrs={}, system_attrs={}, intermediate_values={}, distributions={'classifier': CategoricalDistribution(choices=('Logistic', 'Tree', 'Forest')), 'rf_md': IntDistribution(high=25, log=True, low=2, step=1), 'rf_num_estimators': IntDistribution(high=100, log=False, low=5, step=1)}, trial_id=28, value=None)"
      ]
     },
     "execution_count": 60,
     "metadata": {},
     "output_type": "execute_result"
    }
   ],
   "source": [
    "trial = study.best_trial\n",
    "trial"
   ]
  },
  {
   "cell_type": "code",
   "execution_count": 61,
   "id": "6157961e",
   "metadata": {},
   "outputs": [
    {
     "data": {
      "text/plain": [
       "{'classifier': 'Forest', 'rf_md': 25, 'rf_num_estimators': 33}"
      ]
     },
     "execution_count": 61,
     "metadata": {},
     "output_type": "execute_result"
    }
   ],
   "source": [
    "trial.params"
   ]
  },
  {
   "cell_type": "markdown",
   "id": "149beafd",
   "metadata": {},
   "source": [
    "## Работа с моделями"
   ]
  },
  {
   "cell_type": "markdown",
   "id": "c532a9ba",
   "metadata": {},
   "source": [
    "### Обучение и предсказания моделей по несбалансированной классовой выборке"
   ]
  },
  {
   "cell_type": "markdown",
   "id": "a192a0af",
   "metadata": {},
   "source": [
    "В первую очередь обучим и проверим на валидационной выборке модель \"логистической регрессии\" пока без балансировки классов. "
   ]
  },
  {
   "cell_type": "code",
   "execution_count": null,
   "id": "a907f723",
   "metadata": {
    "scrolled": false
   },
   "outputs": [],
   "source": [
    "best_model_logisticregression = None\n",
    "best_result_logisticregression = 0\n",
    "\n",
    "for itr in range(100, 2001, 100):\n",
    "    model = LogisticRegression(random_state=12345, solver='liblinear', max_iter=itr)\n",
    "    model.fit(features_train_ohe, target_train)\n",
    "    predictions = model.predict(features_valid_ohe)\n",
    "    result = f1_score(target_valid, predictions)\n",
    "    if result > best_result_logisticregression:\n",
    "        best_model_logisticregression = model\n",
    "        best_result_logisticregression = result\n",
    "        best_max_iter = itr\n",
    "        precision = precision_score(target_valid, predictions)\n",
    "        recall = recall_score(target_valid, predictions)\n",
    "print(f'F1-оценка лучшей модели: {best_result_logisticregression} \\\n",
    "\\nЛучшее значение гиперпарметра \"max_iter\": {best_max_iter} \\\n",
    "\\nТочность лучшей модели: {precision} \\\n",
    "\\nПолнота лучшей модели: {recall}')   "
   ]
  },
  {
   "cell_type": "markdown",
   "id": "c4997c5f",
   "metadata": {},
   "source": [
    "Сравним модель со случайной, построив ROC-кривую, и посчитаем площадь под кривой - AUC-ROC."
   ]
  },
  {
   "cell_type": "code",
   "execution_count": null,
   "id": "ac5b9c1d",
   "metadata": {},
   "outputs": [],
   "source": [
    "probabilities_valid = best_model_logisticregression.predict_proba(features_valid_ohe)\n",
    "probabilities_one_valid = probabilities_valid[:, 1]\n",
    "\n",
    "fpr, tpr, thresholds = roc_curve(target_valid, probabilities_one_valid)\n",
    "\n",
    "plt.figure()\n",
    "\n",
    "plt.plot(fpr, tpr)\n",
    "plt.plot([0, 1], [0, 1], linestyle='--')\n",
    "\n",
    "plt.xlim([0, 1])\n",
    "plt.ylim([0, 1])\n",
    "plt.xlabel('False Positive Rate')\n",
    "plt.ylabel('True Positive Rate')\n",
    "\n",
    "plt.title(\"ROC-кривая модели LogisticRegression\")\n",
    "\n",
    "plt.show()"
   ]
  },
  {
   "cell_type": "code",
   "execution_count": null,
   "id": "e26f1043",
   "metadata": {},
   "outputs": [],
   "source": [
    "print('Площадь области по ROC-кривой (AUC-ROC):', roc_auc_score(target_valid, probabilities_one_valid))"
   ]
  },
  {
   "cell_type": "markdown",
   "id": "60966ab2",
   "metadata": {},
   "source": [
    "Фиксируем невысокий результат F1-метрики модели \"логистической регрессии\", особо отметим неудачные показатели модели в полноте предсказания положительного класса, при этом модель заметно лучше константной модели.\n",
    "Следующей моделью выберем модель \"дерева-решений\", о чем нам говорит метрика AUC-ROC, измеряющая площадь под областью ROC-кривой, которая определяет соотношение между истинно- и ложноположительными ответами модели."
   ]
  },
  {
   "cell_type": "code",
   "execution_count": null,
   "id": "63f58e42",
   "metadata": {},
   "outputs": [],
   "source": [
    "best_model_decisiontree = None\n",
    "best_result_decisiontree = 0\n",
    "\n",
    "for depth in range(1, 31):\n",
    "    model = DecisionTreeClassifier(random_state=12345, max_depth=depth)\n",
    "    model.fit(features_train, target_train)\n",
    "    predictions = model.predict(features_valid)\n",
    "    result = f1_score(target_valid, predictions)\n",
    "    if result > best_result_decisiontree:\n",
    "        best_model_decisiontree = model\n",
    "        best_result_decisiontree = result\n",
    "        best_max_depth = depth\n",
    "        precision = precision_score(target_valid, predictions)\n",
    "        recall = recall_score(target_valid, predictions)\n",
    "                \n",
    "print(f'F1-оценка лучшей модели: {best_result_decisiontree} \\\n",
    "\\nЛучшее значение гиперпараметра \"max_depth\": {best_max_depth} \\\n",
    "\\nТочность лучшей модели: {precision} \\\n",
    "\\nПолнота лучшей модели: {recall}')"
   ]
  },
  {
   "cell_type": "markdown",
   "id": "8b15576a",
   "metadata": {},
   "source": [
    "F1-оценка модели \"дерева-решений\" заметно лучше - 0.5817, почти половина положительного класса было верно предсказано моделью. "
   ]
  },
  {
   "cell_type": "code",
   "execution_count": null,
   "id": "0d675a20",
   "metadata": {},
   "outputs": [],
   "source": [
    "probabilities_valid = best_model_decisiontree.predict_proba(features_valid)\n",
    "probabilities_one_valid = probabilities_valid[:, 1]\n",
    "\n",
    "fpr, tpr, thresholds = roc_curve(target_valid, probabilities_one_valid)\n",
    "\n",
    "plt.figure()\n",
    "\n",
    "plt.plot(fpr, tpr)\n",
    "plt.plot([0, 1], [0, 1], linestyle='--')\n",
    "\n",
    "plt.xlim([0, 1])\n",
    "plt.ylim([0, 1])\n",
    "plt.xlabel('False Positive Rate')\n",
    "plt.ylabel('True Positive Rate')\n",
    "\n",
    "plt.title(\"ROC-кривая модели DecisionTreeClassifier\")\n",
    "\n",
    "plt.show()"
   ]
  },
  {
   "cell_type": "code",
   "execution_count": null,
   "id": "c886200c",
   "metadata": {},
   "outputs": [],
   "source": [
    "print('Площадь области по ROC-кривой (AUC-ROC):', roc_auc_score(target_valid, probabilities_one_valid))"
   ]
  },
  {
   "cell_type": "markdown",
   "id": "661fd7e4",
   "metadata": {},
   "source": [
    "Модель \"дерева-решений\" улучшила показатель площади под ROC-кривой в сравнении с моделью \"логистической регрессии\". Далее обратимся к модели \"случайного леса\"."
   ]
  },
  {
   "cell_type": "code",
   "execution_count": null,
   "id": "8150751e",
   "metadata": {},
   "outputs": [],
   "source": [
    "%%time\n",
    "\n",
    "best_model_randomforest = None\n",
    "best_result_randomforest = 0\n",
    "\n",
    "for est in range(10, 201, 10):\n",
    "    for depth in range(1, 31):\n",
    "        model = RandomForestClassifier(random_state=12345, n_estimators=est, max_depth=depth)\n",
    "        model.fit(features_train, target_train)\n",
    "        predictions = model.predict(features_valid)\n",
    "        result = f1_score(target_valid, predictions)\n",
    "        if result > best_result_decisiontree:\n",
    "            best_model_randomforest = model\n",
    "            best_result_randomforest = result\n",
    "            best_max_depth = depth\n",
    "            best_n_estimators = est\n",
    "            precision = precision_score(target_valid, predictions)\n",
    "            recall = recall_score(target_valid, predictions)\n",
    "print(f'F1-оценка лучшей модели: {best_result_randomforest} \\\n",
    "\\nЛучшее значение гиперпарметра \"n_estimators\": {best_n_estimators} \\\n",
    "\\nЛучшее значение гиперпараметра \"max_depth\": {best_max_depth} \\\n",
    "\\nТочность лучшей модели: {precision} \\\n",
    "\\nПолнота лучшей модели: {recall}')"
   ]
  },
  {
   "cell_type": "markdown",
   "id": "ac8706ad",
   "metadata": {},
   "source": [
    "И \"случайный лес\" показал неплохую оценку F1-метрики и рекордную точность, хотя несколько ниже показатели полноты в сравнении с моделью \"дерева-решений\"."
   ]
  },
  {
   "cell_type": "code",
   "execution_count": null,
   "id": "a1683230",
   "metadata": {},
   "outputs": [],
   "source": [
    "probabilities_valid = best_model_randomforest.predict_proba(features_valid)\n",
    "probabilities_one_valid = probabilities_valid[:, 1]\n",
    "\n",
    "fpr, tpr, thresholds = roc_curve(target_valid, probabilities_one_valid)\n",
    "\n",
    "plt.figure()\n",
    "\n",
    "plt.plot(fpr, tpr)\n",
    "plt.plot([0, 1], [0, 1], linestyle='--')\n",
    "\n",
    "plt.xlim([0, 1])\n",
    "plt.ylim([0, 1])\n",
    "plt.xlabel('False Positive Rate')\n",
    "plt.ylabel('True Positive Rate')\n",
    "\n",
    "plt.title(\"ROC-кривая RandomForestClassifier\")\n",
    "\n",
    "plt.show()"
   ]
  },
  {
   "cell_type": "code",
   "execution_count": null,
   "id": "3e22f6b5",
   "metadata": {},
   "outputs": [],
   "source": [
    "print('Площадь области по ROC-кривой (AUC-ROC):', roc_auc_score(target_valid, probabilities_one_valid))"
   ]
  },
  {
   "cell_type": "markdown",
   "id": "ad0ac4db",
   "metadata": {},
   "source": [
    "\"Случайный лес\" выглядит предпочтительно и по результатам построения ROC-кривой."
   ]
  },
  {
   "cell_type": "markdown",
   "id": "c238bef2",
   "metadata": {},
   "source": [
    "Модели \"случайного леса\" и \"дерева-решений\" и на несбалансированной выборке показали неплохой результат. Стоит рассчитывать, что балансировка классов придаст большую полноту предсказаний положительного класса, отсюда получим лучшие показания метрики F1.\n",
    "Отмечаем прогресс в показателях AUC-ROC от модели \"логистичкской регрессии\" к \"случайному лесу\"."
   ]
  },
  {
   "cell_type": "markdown",
   "id": "1ab866b8",
   "metadata": {},
   "source": [
    "Сделаем подбор гиперпараметров с помощью фреймворка Optuna"
   ]
  },
  {
   "cell_type": "code",
   "execution_count": null,
   "id": "4bc3b35d",
   "metadata": {},
   "outputs": [],
   "source": [
    "def objective(trial):\n",
    "    \n",
    "    classifier_name = trial.suggest_categorical(\"classifier\", [\"Tree\", \"Forest\"])\n",
    "    \n",
    "    \n",
    "    if classifier_name == \"Tree\":\n",
    "        dt_md = trial.suggest_int('max_depth', 2, 20)\n",
    "        dt_sl = trial.suggest_int('min_inst', 1, 32)\n",
    "        model = DecisionTreeClassifier(max_depth=dt_md, min_samples_leaf=dt_sl, random_state=12345)\n",
    "        \n",
    "    else:\n",
    "        rf_md = trial.suggest_int(\"rf_md\", 2, 25, log=True)\n",
    "        rf_n_estimators = trial.suggest_int('rf_num_estimators', 5, 100) \n",
    "        model = RandomForestClassifier(max_depth=rf_md, n_estimators=rf_n_estimators, random_state=12345)\n",
    "        \n",
    "   \n",
    "    \n",
    "    model.fit(features_train_oe, target_train)\n",
    "    predictions = model.predict(features_valid_oe)\n",
    "    result = f1_score(target_valid, predictions)\n",
    "    return result"
   ]
  },
  {
   "cell_type": "code",
   "execution_count": null,
   "id": "2016c454",
   "metadata": {
    "scrolled": false
   },
   "outputs": [],
   "source": [
    "study = optuna.create_study(direction=\"maximize\") \n",
    "study.optimize(objective, n_trials=30)"
   ]
  },
  {
   "cell_type": "code",
   "execution_count": null,
   "id": "5642d99f",
   "metadata": {},
   "outputs": [],
   "source": [
    "trial = study.best_trial\n",
    "trial"
   ]
  },
  {
   "cell_type": "code",
   "execution_count": null,
   "id": "a033de8a",
   "metadata": {},
   "outputs": [],
   "source": [
    "trial.params"
   ]
  },
  {
   "cell_type": "markdown",
   "id": "ed899b40",
   "metadata": {},
   "source": [
    "### Обучение и предсказания моделей по сбалансированным классовым выборкам"
   ]
  },
  {
   "cell_type": "markdown",
   "id": "0c641431",
   "metadata": {},
   "source": [
    "Модель логистической регрессии сбалансируем с помощью придания меньшему положительному классу большего веса с помощью параметра `class_weight` и его значения `balanced`."
   ]
  },
  {
   "cell_type": "code",
   "execution_count": null,
   "id": "107a0ba0",
   "metadata": {},
   "outputs": [],
   "source": [
    "best_model_logisticregression = None\n",
    "best_result_logisticregression = 0\n",
    "\n",
    "model = LogisticRegression(random_state=12345, solver='liblinear', class_weight='balanced')\n",
    "model.fit(features_train, target_train)\n",
    "predictions = model.predict(features_valid)\n",
    "result = f1_score(target_valid, predictions)\n",
    "if result > best_result_logisticregression:\n",
    "        best_model_logisticregression = model\n",
    "        best_result_logisticregression = result\n",
    "        precision = precision_score(target_valid, predictions)\n",
    "        recall = recall_score(target_valid, predictions)\n",
    "print(f'F1-оценка лучшей модели: {best_result_logisticregression} \\\n",
    "\\nТочность лучшей модели: {precision} \\\n",
    "\\nПолнота лучшей модели: {recall}')   "
   ]
  },
  {
   "cell_type": "markdown",
   "id": "d10033ca",
   "metadata": {},
   "source": [
    "Сбалансированная модель показала себя отлично, и улучшила свой результат, но не превзошла показатели двух других моделей. Построим график ROC-кривой и вычислим площадь по кривой (AUC-ROC)."
   ]
  },
  {
   "cell_type": "code",
   "execution_count": null,
   "id": "73922275",
   "metadata": {},
   "outputs": [],
   "source": [
    "probabilities_valid = best_model_logisticregression.predict_proba(features_valid)\n",
    "probabilities_one_valid = probabilities_valid[:, 1]\n",
    "\n",
    "fpr, tpr, thresholds = roc_curve(target_valid, probabilities_one_valid)\n",
    "\n",
    "plt.figure()\n",
    "\n",
    "plt.plot(fpr, tpr)\n",
    "plt.plot([0, 1], [0, 1], linestyle='--')\n",
    "\n",
    "plt.xlim([0, 1])\n",
    "plt.ylim([0, 1])\n",
    "plt.xlabel('False Positive Rate')\n",
    "plt.ylabel('True Positive Rate')\n",
    "\n",
    "plt.title(\"ROC-кривая модели LogisticRegression\")\n",
    "\n",
    "plt.show()"
   ]
  },
  {
   "cell_type": "code",
   "execution_count": null,
   "id": "0217ec66",
   "metadata": {},
   "outputs": [],
   "source": [
    "print('Площадь области по ROC-кривой (AUC-ROC):', roc_auc_score(target_valid, probabilities_one_valid))"
   ]
  },
  {
   "cell_type": "markdown",
   "id": "d2f78699",
   "metadata": {},
   "source": [
    "Показатели AUC-ROC хоть и незначительно, но улучшились. Модель эффективнее работает на сбалансированной выборке. Продолжим обучением моделей \"дерева-решений\" и \"случайного леса\" на сбалансированной выборке."
   ]
  },
  {
   "cell_type": "markdown",
   "id": "ac28fda5",
   "metadata": {},
   "source": [
    "Использует значение `balanced` параметра `class_weight` для деревянных моделях."
   ]
  },
  {
   "cell_type": "code",
   "execution_count": null,
   "id": "79700f1f",
   "metadata": {},
   "outputs": [],
   "source": [
    "best_model_decisiontree = None\n",
    "best_result_decisiontree = 0\n",
    "\n",
    "for depth in range(1, 31):\n",
    "    model = DecisionTreeClassifier(random_state=12345, max_depth=depth, class_weight='balanced')\n",
    "    model.fit(features_train, target_train)\n",
    "    predictions = model.predict(features_valid)\n",
    "    result = f1_score(target_valid, predictions)\n",
    "    if result > best_result_decisiontree:\n",
    "        best_model_decisiontree = model\n",
    "        best_result_decisiontree = result\n",
    "        best_max_depth = depth\n",
    "        precision = precision_score(target_valid, predictions)\n",
    "        recall = recall_score(target_valid, predictions)\n",
    "                \n",
    "print(f'F1-оценка лучшей модели: {best_result_decisiontree} \\\n",
    "\\nЛучшее значение гиперпараметра \"max_depth\": {best_max_depth} \\\n",
    "\\nТочность лучшей модели: {precision} \\\n",
    "\\nПолнота лучшей модели: {recall}')"
   ]
  },
  {
   "cell_type": "code",
   "execution_count": null,
   "id": "3682f51d",
   "metadata": {},
   "outputs": [],
   "source": [
    "probabilities_valid = best_model_decisiontree.predict_proba(features_valid)\n",
    "probabilities_one_valid = probabilities_valid[:, 1]\n",
    "\n",
    "fpr, tpr, thresholds = roc_curve(target_valid, probabilities_one_valid)\n",
    "\n",
    "plt.figure()\n",
    "\n",
    "plt.plot(fpr, tpr)\n",
    "plt.plot([0, 1], [0, 1], linestyle='--')\n",
    "\n",
    "plt.xlim([0, 1])\n",
    "plt.ylim([0, 1])\n",
    "plt.xlabel('False Positive Rate')\n",
    "plt.ylabel('True Positive Rate')\n",
    "\n",
    "plt.title(\"ROC-кривая модели DecisionTreeClassifier\")\n",
    "\n",
    "plt.show()"
   ]
  },
  {
   "cell_type": "code",
   "execution_count": null,
   "id": "8e657b90",
   "metadata": {},
   "outputs": [],
   "source": [
    "print('Площадь области по ROC-кривой (AUC-ROC):', roc_auc_score(target_valid, probabilities_one_valid))"
   ]
  },
  {
   "cell_type": "markdown",
   "id": "bf341462",
   "metadata": {},
   "source": [
    "Ожидаемо при балансировке классов путем придания их равного веса мы снизили точность, зато заметно прибавили в полноте наших предсказаний, показатель площади под ROC-кривой вырос, а вот метрика F1 несколько ухудшилась, по сравнению той же модели \"дерева-решений\", но на несбалансированной выборке."
   ]
  },
  {
   "cell_type": "markdown",
   "id": "a9c0a1d2",
   "metadata": {},
   "source": [
    "Перейдем к обучению модели \"случайного леса\"."
   ]
  },
  {
   "cell_type": "code",
   "execution_count": null,
   "id": "25eb07ec",
   "metadata": {},
   "outputs": [],
   "source": [
    "%%time\n",
    "\n",
    "best_model_randomforest = None\n",
    "best_result_randomforest = 0\n",
    "\n",
    "for est in range(10, 201, 10):\n",
    "    for depth in range(1, 31):\n",
    "        model = RandomForestClassifier(random_state=12345, n_estimators=est, max_depth=depth, class_weight='balanced')\n",
    "        model.fit(features_train, target_train)\n",
    "        predictions = model.predict(features_valid)\n",
    "        result = f1_score(target_valid, predictions)\n",
    "        if result > best_result_decisiontree:\n",
    "            best_model_randomforest = model\n",
    "            best_result_randomforest = result\n",
    "            best_max_depth = depth\n",
    "            best_n_estimators = est\n",
    "            precision = precision_score(target_valid, predictions)\n",
    "            recall = recall_score(target_valid, predictions)\n",
    "print(f'F1-оценка лучшей модели: {best_result_randomforest} \\\n",
    "\\nЛучшее значение гиперпарметра \"n_estimators\": {best_n_estimators} \\\n",
    "\\nЛучшее значение гиперпараметра \"max_depth\": {best_max_depth} \\\n",
    "\\nТочность лучшей модели: {precision} \\\n",
    "\\nПолнота лучшей модели: {recall}')"
   ]
  },
  {
   "cell_type": "markdown",
   "id": "853bc240",
   "metadata": {},
   "source": [
    "Модель показала хороший результат, при этом несколько ниже своего собственного на несбалансированной выборке."
   ]
  },
  {
   "cell_type": "code",
   "execution_count": null,
   "id": "12d84296",
   "metadata": {},
   "outputs": [],
   "source": [
    "probabilities_valid = best_model_randomforest.predict_proba(features_valid)\n",
    "probabilities_one_valid = probabilities_valid[:, 1]\n",
    "\n",
    "fpr, tpr, thresholds = roc_curve(target_valid, probabilities_one_valid)\n",
    "\n",
    "plt.figure()\n",
    "\n",
    "plt.plot(fpr, tpr)\n",
    "plt.plot([0, 1], [0, 1], linestyle='--')\n",
    "\n",
    "plt.xlim([0, 1])\n",
    "plt.ylim([0, 1])\n",
    "plt.xlabel('False Positive Rate')\n",
    "plt.ylabel('True Positive Rate')\n",
    "\n",
    "plt.title(\"ROC-кривая RandomForestClassifier\")\n",
    "\n",
    "plt.show()"
   ]
  },
  {
   "cell_type": "code",
   "execution_count": null,
   "id": "8a5c377d",
   "metadata": {},
   "outputs": [],
   "source": [
    "print('Площадь области по ROC-кривой (AUC-ROC):', roc_auc_score(target_valid, probabilities_one_valid))"
   ]
  },
  {
   "cell_type": "markdown",
   "id": "c0a8bd46",
   "metadata": {},
   "source": [
    "А вот метрика AUC-ROC показала прогресс модели."
   ]
  },
  {
   "cell_type": "markdown",
   "id": "76580b81",
   "metadata": {},
   "source": [
    "Подготовим и обучим модели сбалансировав долю классов.\n",
    "\n",
    "Учитывая размер выборки будет более уместным для балансировки классов использовать технику **upsampling**, мы увеличим долю положительного класса в обучающей выборке, таким образом лучше познакомим нашу модель с представителями положительного класса. Составим функцию, а прежде найдем множитель для уравнивания классов."
   ]
  },
  {
   "cell_type": "code",
   "execution_count": null,
   "id": "9bb2b471",
   "metadata": {},
   "outputs": [],
   "source": [
    "len(target_train[target_train == 0])/ len(target_train[target_train == 1])"
   ]
  },
  {
   "cell_type": "markdown",
   "id": "8d94e689",
   "metadata": {},
   "source": [
    "Почти в 4 раза больше в выборке объектов отрицательного класса, этот множитель и оставим для нашей функции."
   ]
  },
  {
   "cell_type": "code",
   "execution_count": null,
   "id": "ee9eba2d",
   "metadata": {},
   "outputs": [],
   "source": [
    "def upsample(features, target, repeat):\n",
    "    features_zeros = features[target == 0]\n",
    "    features_ones = features[target == 1]\n",
    "    target_zeros = target[target == 0]\n",
    "    target_ones = target[target == 1]\n",
    "\n",
    "    features_upsampled = pd.concat([features_zeros] + [features_ones] * repeat)\n",
    "    target_upsampled = pd.concat([target_zeros] + [target_ones] * repeat)\n",
    "    \n",
    "    features_upsampled, target_upsampled = shuffle(features_upsampled, target_upsampled, random_state=12345)\n",
    "    \n",
    "    return features_upsampled, target_upsampled\n",
    "\n",
    "features_upsampled, target_upsampled = upsample(features_train, target_train, 4)"
   ]
  },
  {
   "cell_type": "code",
   "execution_count": null,
   "id": "ff0403be",
   "metadata": {},
   "outputs": [],
   "source": [
    "best_model_logisticregression = None\n",
    "best_result_logisticregression = 0\n",
    "\n",
    "model = LogisticRegression(random_state=12345, solver='liblinear')\n",
    "model.fit(features_upsampled, target_upsampled)\n",
    "predictions = model.predict(features_valid)\n",
    "result = f1_score(target_valid, predictions)\n",
    "if result > best_result_logisticregression:\n",
    "        best_model_logisticregression = model\n",
    "        best_result_logisticregression = result\n",
    "        precision = precision_score(target_valid, predictions)\n",
    "        recall = recall_score(target_valid, predictions)\n",
    "print(f'F1-оценка лучшей модели: {best_result_logisticregression} \\\n",
    "\\nТочность лучшей модели: {precision} \\\n",
    "\\nПолнота лучшей модели: {recall}')  "
   ]
  },
  {
   "cell_type": "code",
   "execution_count": null,
   "id": "5263a3b9",
   "metadata": {
    "scrolled": false
   },
   "outputs": [],
   "source": [
    "probabilities_valid = best_model_logisticregression.predict_proba(features_valid)\n",
    "probabilities_one_valid = probabilities_valid[:, 1]\n",
    "\n",
    "fpr, tpr, thresholds = roc_curve(target_valid, probabilities_one_valid)\n",
    "\n",
    "plt.figure()\n",
    "\n",
    "plt.plot(fpr, tpr)\n",
    "plt.plot([0, 1], [0, 1], linestyle='--')\n",
    "\n",
    "plt.xlim([0, 1])\n",
    "plt.ylim([0, 1])\n",
    "plt.xlabel('False Positive Rate')\n",
    "plt.ylabel('True Positive Rate')\n",
    "\n",
    "plt.title(\"ROC-кривая модели LogisticRegression\")\n",
    "\n",
    "plt.show()"
   ]
  },
  {
   "cell_type": "code",
   "execution_count": null,
   "id": "4114e75e",
   "metadata": {},
   "outputs": [],
   "source": [
    "print('Площадь области по ROC-кривой (AUC-ROC):', roc_auc_score(target_valid, probabilities_one_valid))"
   ]
  },
  {
   "cell_type": "markdown",
   "id": "6f59dc6b",
   "metadata": {},
   "source": [
    "Модель \"логистической регрессии\" показала себя несколько хуже в рамках F1-оцене, чем на сбалансированном взвешивании классов."
   ]
  },
  {
   "cell_type": "markdown",
   "id": "48a35934",
   "metadata": {},
   "source": [
    "Обучим и найдем показатель F1-метрики лучшей модели \"дерева-решений\", обученной на сбалансированной выборке."
   ]
  },
  {
   "cell_type": "code",
   "execution_count": null,
   "id": "adb30116",
   "metadata": {},
   "outputs": [],
   "source": [
    "best_model_decisiontree = None\n",
    "best_result_decisiontree = 0\n",
    "\n",
    "for depth in range(1, 31):\n",
    "    model = DecisionTreeClassifier(random_state=12345, max_depth=depth)\n",
    "    model.fit(features_upsampled, target_upsampled)\n",
    "    predictions = model.predict(features_valid)\n",
    "    result = f1_score(target_valid, predictions)\n",
    "    if result > best_result_decisiontree:\n",
    "        best_model_decisiontree = model\n",
    "        best_result_decisiontree = result\n",
    "        best_max_depth = depth\n",
    "        precision = precision_score(target_valid, predictions)\n",
    "        recall = recall_score(target_valid, predictions)\n",
    "                \n",
    "print(f'F1-оценка лучшей модели: {best_result_decisiontree} \\\n",
    "\\nЛучшее значение гиперпараметра \"max_depth\": {best_max_depth} \\\n",
    "\\nТочность лучшей модели: {precision} \\\n",
    "\\nПолнота лучшей модели: {recall}')"
   ]
  },
  {
   "cell_type": "code",
   "execution_count": null,
   "id": "36b9cdd5",
   "metadata": {},
   "outputs": [],
   "source": [
    "probabilities_valid = best_model_decisiontree.predict_proba(features_valid)\n",
    "probabilities_one_valid = probabilities_valid[:, 1]\n",
    "\n",
    "fpr, tpr, thresholds = roc_curve(target_valid, probabilities_one_valid)\n",
    "\n",
    "plt.figure()\n",
    "\n",
    "plt.plot(fpr, tpr)\n",
    "plt.plot([0, 1], [0, 1], linestyle='--')\n",
    "\n",
    "plt.xlim([0, 1])\n",
    "plt.ylim([0, 1])\n",
    "plt.xlabel('False Positive Rate')\n",
    "plt.ylabel('True Positive Rate')\n",
    "\n",
    "plt.title(\"ROC-кривая модели DecisionTreeClassifier\")\n",
    "\n",
    "plt.show()"
   ]
  },
  {
   "cell_type": "code",
   "execution_count": null,
   "id": "e9b2fba4",
   "metadata": {},
   "outputs": [],
   "source": [
    "print('Площадь области по ROC-кривой (AUC-ROC):', roc_auc_score(target_valid, probabilities_one_valid))"
   ]
  },
  {
   "cell_type": "markdown",
   "id": "f95105be",
   "metadata": {},
   "source": [
    "Сбалансированная выборка несколько хуже сказалась на результаты модели \"дерева-решений\", метрики F1 ниже, чем у той же модели на несбалансированной выборке. Интересно, какие результаты мы увидим у модели \"случайного леса\"."
   ]
  },
  {
   "cell_type": "code",
   "execution_count": null,
   "id": "2997a4dd",
   "metadata": {},
   "outputs": [],
   "source": [
    "%%time\n",
    "\n",
    "best_model_randomforest = None\n",
    "best_result_randomforest = 0\n",
    "\n",
    "for est in range(10, 601, 20):\n",
    "    for depth in range(1, 101, 10):\n",
    "        model = RandomForestClassifier(random_state=12345, n_estimators=est, max_depth=depth)\n",
    "        model.fit(features_upsampled, target_upsampled)\n",
    "        predictions = model.predict(features_valid)\n",
    "        result = f1_score(target_valid, predictions)\n",
    "        if result > best_result_decisiontree:\n",
    "            best_model_randomforest = model\n",
    "            best_result_randomforest = result\n",
    "            best_max_depth = depth\n",
    "            best_n_estimators = est\n",
    "            precision = precision_score(target_valid, predictions)\n",
    "            recall = recall_score(target_valid, predictions)\n",
    "print(f'F1-оценка лучшей модели: {best_result_randomforest} \\\n",
    "\\nЛучшее значение гиперпарметра \"n_estimators\": {best_n_estimators} \\\n",
    "\\nЛучшее значение гиперпараметра \"max_depth\": {best_max_depth} \\\n",
    "\\nТочность лучшей модели: {precision} \\\n",
    "\\nПолнота лучшей модели: {recall}')"
   ]
  },
  {
   "cell_type": "code",
   "execution_count": null,
   "id": "57227b37",
   "metadata": {},
   "outputs": [],
   "source": [
    "probabilities_valid = best_model_randomforest.predict_proba(features_valid)\n",
    "probabilities_one_valid = probabilities_valid[:, 1]\n",
    "\n",
    "fpr, tpr, thresholds = roc_curve(target_valid, probabilities_one_valid)\n",
    "\n",
    "plt.figure()\n",
    "\n",
    "plt.plot(fpr, tpr)\n",
    "plt.plot([0, 1], [0, 1], linestyle='--')\n",
    "\n",
    "plt.xlim([0, 1])\n",
    "plt.ylim([0, 1])\n",
    "plt.xlabel('False Positive Rate')\n",
    "plt.ylabel('True Positive Rate')\n",
    "\n",
    "plt.title(\"ROC-кривая RandomForestClassifier\")\n",
    "\n",
    "plt.show()"
   ]
  },
  {
   "cell_type": "code",
   "execution_count": null,
   "id": "2e3e838c",
   "metadata": {},
   "outputs": [],
   "source": [
    "print('Площадь области по ROC-кривой (AUC-ROC):', roc_auc_score(target_valid, probabilities_one_valid))"
   ]
  },
  {
   "cell_type": "markdown",
   "id": "fb109dfe",
   "metadata": {},
   "source": [
    "Модель \"случайного леса\" показала лучшие результаты на сбалансированной выборке, впервые за время обучения одна из моделей преодолела плану в 0,6 значения F1-метрики, руководствуюсь ее показателями и площади под ROC-кривой именно данную модель мы выбираем для финального тестирования."
   ]
  },
  {
   "cell_type": "markdown",
   "id": "0ded2a0c",
   "metadata": {},
   "source": [
    "По результатам обучения моделей на сбалансированной и несбалансированной выборках однозначно выделяются в лучшую сторону модели, обученные на сбалансированной выборкой. В среднем же модели показали неплохой результат, намного лучше константной модели случайного предсказания, что говорит о вменяемости каждой модели.\n",
    "\n",
    "Для обучения модели и проверки алгоритмов мы использовали такие техники балансировки, как взвешивание классов и upsampling. Искали лучшие модели использую перебор гиперпараметром n_estimators, max_depth и max_iter."
   ]
  },
  {
   "cell_type": "markdown",
   "id": "b10fc0c3",
   "metadata": {},
   "source": [
    "Сделаем подбор гиперпараметров с помощью фреймворка Optuna"
   ]
  },
  {
   "cell_type": "code",
   "execution_count": null,
   "id": "11b8e211",
   "metadata": {},
   "outputs": [],
   "source": [
    "def objective(trial):\n",
    "    \n",
    "    classifier_name = trial.suggest_categorical(\"classifier\", [\"Tree\", \"Forest\"])\n",
    "    \n",
    "    \n",
    "    if classifier_name == \"Tree\":\n",
    "        dt_md = trial.suggest_int('max_depth', 2, 20)\n",
    "        dt_sl = trial.suggest_int('min_inst', 1, 32)\n",
    "        model = DecisionTreeClassifier(max_depth=dt_md, min_samples_leaf=dt_sl, random_state=12345, class_weight='balanced')\n",
    "        \n",
    "    else:\n",
    "        rf_md = trial.suggest_int(\"rf_md\", 2, 25, log=True)\n",
    "        rf_n_estimators = trial.suggest_int('rf_num_estimators', 5, 100) \n",
    "        model = RandomForestClassifier(max_depth=rf_md, n_estimators=rf_n_estimators, random_state=12345, class_weight='balanced')\n",
    "        \n",
    "   \n",
    "    \n",
    "    model.fit(features_train_oe, target_train)\n",
    "    predictions = model.predict(features_valid_oe)\n",
    "    result = f1_score(target_valid, predictions)\n",
    "    return result"
   ]
  },
  {
   "cell_type": "code",
   "execution_count": null,
   "id": "17c3ba91",
   "metadata": {
    "scrolled": false
   },
   "outputs": [],
   "source": [
    "study = optuna.create_study(direction=\"maximize\") \n",
    "study.optimize(objective, n_trials=30)"
   ]
  },
  {
   "cell_type": "code",
   "execution_count": null,
   "id": "22e9d35d",
   "metadata": {},
   "outputs": [],
   "source": [
    "trial = study.best_trial\n",
    "trial"
   ]
  },
  {
   "cell_type": "code",
   "execution_count": null,
   "id": "25610d00",
   "metadata": {},
   "outputs": [],
   "source": [
    "trial.params"
   ]
  },
  {
   "cell_type": "code",
   "execution_count": null,
   "id": "67acd193",
   "metadata": {},
   "outputs": [],
   "source": [
    "trial.values"
   ]
  },
  {
   "cell_type": "markdown",
   "id": "78c33da9",
   "metadata": {},
   "source": [
    "## Проверка лучшей модели"
   ]
  },
  {
   "cell_type": "markdown",
   "id": "8b719ddc",
   "metadata": {},
   "source": [
    "### Проверка лучшей модели на тестовой выборке"
   ]
  },
  {
   "cell_type": "markdown",
   "id": "643807b0",
   "metadata": {},
   "source": [
    "Лучшей моделью мы признали модель \"случайного леса\" на сбалансированной выборке. Протестируем наилучшую модель."
   ]
  },
  {
   "cell_type": "code",
   "execution_count": null,
   "id": "c33b28d8",
   "metadata": {},
   "outputs": [],
   "source": [
    "predictions = best_model_randomforest.predict(features_test)\n",
    "\n",
    "result = f1_score(target_test, predictions)\n",
    "precision = precision_score(target_test, predictions)\n",
    "recall = recall_score(target_test, predictions)\n",
    "print(f'F1-оценка лучшей модели: {result} \\\n",
    "\\nТочность лучшей модели: {precision} \\\n",
    "\\nПолнота лучшей модели: {recall}')"
   ]
  },
  {
   "cell_type": "code",
   "execution_count": null,
   "id": "87936598",
   "metadata": {},
   "outputs": [],
   "source": [
    "probabilities_valid = best_model_randomforest.predict_proba(features_test)\n",
    "probabilities_one_valid = probabilities_valid[:, 1]\n",
    "\n",
    "fpr, tpr, thresholds = roc_curve(target_test, probabilities_one_valid)\n",
    "\n",
    "plt.figure()\n",
    "\n",
    "plt.plot(fpr, tpr)\n",
    "plt.plot([0, 1], [0, 1], linestyle='--')\n",
    "\n",
    "plt.xlim([0, 1])\n",
    "plt.ylim([0, 1])\n",
    "plt.xlabel('False Positive Rate')\n",
    "plt.ylabel('True Positive Rate')\n",
    "\n",
    "plt.title(\"ROC-кривая RandomForestClassifier\")\n",
    "\n",
    "plt.show()"
   ]
  },
  {
   "cell_type": "code",
   "execution_count": null,
   "id": "f5e69fa9",
   "metadata": {},
   "outputs": [],
   "source": [
    "print('Площадь области по ROC-кривой (AUC-ROC):', roc_auc_score(target_test, probabilities_one_valid))"
   ]
  },
  {
   "cell_type": "markdown",
   "id": "47aad342",
   "metadata": {},
   "source": [
    "При проверке на тестовой выборке модель продемонстрировала отличный результат - 0.59. AUC-ROC показывает ценность и вменяемость выбранной модели \"случайного леса\"."
   ]
  },
  {
   "cell_type": "markdown",
   "id": "a7c5e52c",
   "metadata": {},
   "source": [
    "### Сравнение с константной моделью"
   ]
  },
  {
   "cell_type": "markdown",
   "id": "6d2090e0",
   "metadata": {},
   "source": [
    "Сравним предсказания лучшей модели с показателями константой модели. С помощью класса `DummyClassifier()` создадим модель на все объекты отвечающей \"1\", т.е. модель предсказывает отток каждого клиента в датасете. Таким образом мы можем понять насколько ценна и эффективна наша модель."
   ]
  },
  {
   "cell_type": "code",
   "execution_count": null,
   "id": "a3a66b91",
   "metadata": {},
   "outputs": [],
   "source": [
    "dummy_model = DummyClassifier(strategy='constant', constant=1)\n",
    "dummy_model.fit(features_train, target_train)\n",
    "predictions = dummy_model.predict(features_test)\n",
    "\n",
    "f1_score = f1_score(target_test, predictions)\n",
    "precision = precision_score(target_test, predictions)\n",
    "\n",
    "print(f'F1-оценка константной модели: {f1_score} \\\n",
    "\\nТочность константной модели: {precision}')"
   ]
  },
  {
   "cell_type": "markdown",
   "id": "2d9a671d",
   "metadata": {},
   "source": [
    "Как видим из показателей константной модели, наша модель работает несравнимо эффективнее и точнее. Созданная модель \"случайного леса\" предсказывает более 55% клиентов, решивших уйти, на тестовой выборке. "
   ]
  },
  {
   "cell_type": "markdown",
   "id": "3d34ab4e",
   "metadata": {},
   "source": [
    "## Вывод"
   ]
  },
  {
   "cell_type": "markdown",
   "id": "2b35b761",
   "metadata": {},
   "source": [
    " В ходе данной работы для предсказания положительного класса, а именно предсказания поведения клиентов, решивших попрощаться с банком, был создан ценный инструмент для борьбы с оттоком клиентов.\n",
    "\n",
    " В ходе исследования была выявлена лучшая модель алгоритма \"случайного леса\". Модель показала отличные показатели точности и полноты на тестовой выборке, в частности доля более чем в 55% положительного класса была предсказана верно, это именно те клиенты, которые решили покинуть банк. В данной задаче полнота имеет большую ценность, поскольку нам важно, как можно больше клиентов, принявших решение об уходе из банка выявить с помощью данной модели, совсем нестрашно, если мы неточностью попадем в клиента, не думавшем об расторжении договора с банком, и предоставим ему выгодную программу лояльности, которая будет способствовать повышению лояльности клиента.\n",
    " \n",
    " Модель показала отличный результат в среднем гармоническом отношении полноты и точности - F1, это говорит о том, что модель хороша и в точности и полноте предсказания положительного класса.\n",
    "\n",
    " Как мы выяснили в ходе исследования, в банке присутствует большое количество клиентов, которые имеют нулевой баланс и не пользуются счетом. Рекомендуется, помимо программы по предотвращению оттока клиентов, с которой можно справится с помощью нашей модели, внедрять меры и стимулы для начала активности спящих клиентов. В большинстве - это теплые клиенты, которые будут идти на контакт и проявлять готовность выслушать предложение банка. Здесь, как кажется, есть потенциал для роста числа активных клиентов и увеличения оборотов по клиентским счетам."
   ]
  }
 ],
 "metadata": {
  "ExecuteTimeLog": [
   {
    "duration": 2306,
    "start_time": "2023-05-06T06:49:14.801Z"
   },
   {
    "duration": 46,
    "start_time": "2023-05-06T06:49:17.110Z"
   },
   {
    "duration": 20,
    "start_time": "2023-05-06T06:49:17.158Z"
   },
   {
    "duration": 19,
    "start_time": "2023-05-06T06:49:17.180Z"
   },
   {
    "duration": 23,
    "start_time": "2023-05-06T06:49:17.201Z"
   },
   {
    "duration": 20,
    "start_time": "2023-05-06T06:49:17.226Z"
   },
   {
    "duration": 29,
    "start_time": "2023-05-06T06:49:17.248Z"
   },
   {
    "duration": 20,
    "start_time": "2023-05-06T06:49:17.280Z"
   },
   {
    "duration": 8,
    "start_time": "2023-05-06T06:49:17.303Z"
   },
   {
    "duration": 19,
    "start_time": "2023-05-06T06:49:17.315Z"
   },
   {
    "duration": 36,
    "start_time": "2023-05-06T06:49:17.337Z"
   },
   {
    "duration": 26,
    "start_time": "2023-05-06T06:49:17.375Z"
   },
   {
    "duration": 19,
    "start_time": "2023-05-06T06:49:17.404Z"
   },
   {
    "duration": 393,
    "start_time": "2023-05-06T06:49:17.425Z"
   },
   {
    "duration": 8,
    "start_time": "2023-05-06T06:49:17.820Z"
   },
   {
    "duration": 401,
    "start_time": "2023-05-06T06:49:17.830Z"
   },
   {
    "duration": 16,
    "start_time": "2023-05-06T06:49:18.233Z"
   },
   {
    "duration": 473,
    "start_time": "2023-05-06T06:49:18.250Z"
   },
   {
    "duration": 293,
    "start_time": "2023-05-06T06:49:18.725Z"
   },
   {
    "duration": 9,
    "start_time": "2023-05-06T06:49:19.020Z"
   },
   {
    "duration": 432,
    "start_time": "2023-05-06T06:49:19.042Z"
   },
   {
    "duration": 8,
    "start_time": "2023-05-06T06:49:19.477Z"
   },
   {
    "duration": 5,
    "start_time": "2023-05-06T06:49:19.487Z"
   },
   {
    "duration": 15,
    "start_time": "2023-05-06T06:49:19.494Z"
   },
   {
    "duration": 37,
    "start_time": "2023-05-06T06:49:19.512Z"
   },
   {
    "duration": 19,
    "start_time": "2023-05-06T06:49:19.551Z"
   },
   {
    "duration": 10,
    "start_time": "2023-05-06T06:49:19.572Z"
   },
   {
    "duration": 11,
    "start_time": "2023-05-06T06:49:19.587Z"
   },
   {
    "duration": 63,
    "start_time": "2023-05-06T06:49:19.600Z"
   },
   {
    "duration": 5,
    "start_time": "2023-05-06T06:49:19.665Z"
   },
   {
    "duration": 3778,
    "start_time": "2023-05-06T06:49:19.673Z"
   },
   {
    "duration": 395,
    "start_time": "2023-05-06T06:49:23.455Z"
   },
   {
    "duration": 7,
    "start_time": "2023-05-06T06:49:23.852Z"
   },
   {
    "duration": 755,
    "start_time": "2023-05-06T06:49:23.861Z"
   },
   {
    "duration": 135,
    "start_time": "2023-05-06T06:49:24.618Z"
   },
   {
    "duration": 7,
    "start_time": "2023-05-06T06:49:24.755Z"
   },
   {
    "duration": 112684,
    "start_time": "2023-05-06T06:49:24.764Z"
   },
   {
    "duration": 193,
    "start_time": "2023-05-06T06:51:17.451Z"
   },
   {
    "duration": 9,
    "start_time": "2023-05-06T06:51:17.646Z"
   },
   {
    "duration": 91,
    "start_time": "2023-05-06T06:51:17.657Z"
   },
   {
    "duration": 382,
    "start_time": "2023-05-06T06:51:17.751Z"
   },
   {
    "duration": 7,
    "start_time": "2023-05-06T06:51:18.142Z"
   },
   {
    "duration": 7,
    "start_time": "2023-05-06T06:51:18.152Z"
   },
   {
    "duration": 10,
    "start_time": "2023-05-06T06:51:18.161Z"
   },
   {
    "duration": 1006,
    "start_time": "2023-05-06T06:51:18.173Z"
   },
   {
    "duration": 189,
    "start_time": "2023-05-06T06:51:19.181Z"
   },
   {
    "duration": 7,
    "start_time": "2023-05-06T06:51:19.372Z"
   },
   {
    "duration": 813979,
    "start_time": "2023-05-06T06:51:19.381Z"
   },
   {
    "duration": 325,
    "start_time": "2023-05-06T07:04:53.362Z"
   },
   {
    "duration": 7,
    "start_time": "2023-05-06T07:04:53.689Z"
   },
   {
    "duration": 10,
    "start_time": "2023-05-06T07:04:53.698Z"
   },
   {
    "duration": 30,
    "start_time": "2023-05-06T07:04:53.709Z"
   },
   {
    "duration": 47,
    "start_time": "2023-05-06T07:04:53.741Z"
   },
   {
    "duration": 142,
    "start_time": "2023-05-06T07:04:53.790Z"
   },
   {
    "duration": 242,
    "start_time": "2023-05-06T07:04:53.934Z"
   },
   {
    "duration": 6,
    "start_time": "2023-05-06T07:04:54.178Z"
   }
  ],
  "kernelspec": {
   "display_name": "Python 3 (ipykernel)",
   "language": "python",
   "name": "python3"
  },
  "language_info": {
   "codemirror_mode": {
    "name": "ipython",
    "version": 3
   },
   "file_extension": ".py",
   "mimetype": "text/x-python",
   "name": "python",
   "nbconvert_exporter": "python",
   "pygments_lexer": "ipython3",
   "version": "3.10.9"
  },
  "toc": {
   "base_numbering": 1,
   "nav_menu": {},
   "number_sections": true,
   "sideBar": true,
   "skip_h1_title": true,
   "title_cell": "Table of Contents",
   "title_sidebar": "Contents",
   "toc_cell": false,
   "toc_position": {
    "height": "calc(100% - 180px)",
    "left": "10px",
    "top": "150px",
    "width": "273.16px"
   },
   "toc_section_display": true,
   "toc_window_display": true
  }
 },
 "nbformat": 4,
 "nbformat_minor": 5
}
